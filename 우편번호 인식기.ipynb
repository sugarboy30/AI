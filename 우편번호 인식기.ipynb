{
 "cells": [
  {
   "cell_type": "code",
   "execution_count": 2,
   "metadata": {
    "collapsed": true,
    "ExecuteTime": {
     "start_time": "2024-07-03T11:53:38.847220Z",
     "end_time": "2024-07-03T11:53:41.223459Z"
    }
   },
   "outputs": [],
   "source": [
    "import numpy as np\n",
    "import tensorflow as tf\n",
    "import cv2 as cv\n",
    "import matplotlib.pyplot as plt\n",
    "import winsound"
   ]
  },
  {
   "cell_type": "code",
   "execution_count": 3,
   "outputs": [],
   "source": [
    "model=tf.keras.models.load_model('dmlp_trained.h5')"
   ],
   "metadata": {
    "collapsed": false,
    "ExecuteTime": {
     "start_time": "2024-07-03T11:53:41.224571Z",
     "end_time": "2024-07-03T11:53:41.349845Z"
    }
   }
  },
  {
   "cell_type": "code",
   "execution_count": 4,
   "outputs": [],
   "source": [
    "def reset():\n",
    "    global img\n",
    "\n",
    "    img=np.ones((200,520,3),dtype=np.uint8)*255\n",
    "    for i in range(5):\n",
    "        cv.rectangle(img,(10+i*100,50),(10+(i+1)*100,150),(0,0,255))\n",
    "    cv.putText(img,'e:erase s:show r:recognition q:quit',(10,40),cv.FONT_HERSHEY_SIMPLEX,0.8,(255,0,0),1)"
   ],
   "metadata": {
    "collapsed": false,
    "ExecuteTime": {
     "start_time": "2024-07-03T11:53:41.351847Z",
     "end_time": "2024-07-03T11:53:41.368851Z"
    }
   }
  },
  {
   "cell_type": "code",
   "execution_count": 5,
   "outputs": [],
   "source": [
    "def grab_numerals():\n",
    "    numerals=[]\n",
    "\n",
    "    for i in range(5):\n",
    "        roi=img[51:149,11+i*100:9+(i+1)*100,0]\n",
    "        roi=255-cv.resize(roi,(28,28),interpolation=cv.INTER_CUBIC)\n",
    "    numerals.array(numerals)\n",
    "    return numerals"
   ],
   "metadata": {
    "collapsed": false,
    "ExecuteTime": {
     "start_time": "2024-07-03T11:53:41.367851Z",
     "end_time": "2024-07-03T11:53:41.385627Z"
    }
   }
  },
  {
   "cell_type": "code",
   "execution_count": 6,
   "outputs": [],
   "source": [
    "def show():\n",
    "    numerals=grab_numerals()\n",
    "    plt.figure(figsize=(25,5))\n",
    "    for i in range(5):\n",
    "        plt.subplot(1, 5, i+1)\n",
    "        plt.imshow(numerals[i],camp='gray')\n",
    "        plt.xticks([]); plt.yticks([])\n",
    "    plt.show()"
   ],
   "metadata": {
    "collapsed": false,
    "ExecuteTime": {
     "start_time": "2024-07-03T11:53:41.383627Z",
     "end_time": "2024-07-03T11:53:41.398135Z"
    }
   }
  },
  {
   "cell_type": "code",
   "execution_count": 7,
   "outputs": [],
   "source": [
    "def recognitiion():\n",
    "    numerals=grab_numerals()\n",
    "    numerals=numerals.reshape(5,784)\n",
    "    numerals=numerals.astype(np.float32)/255.0\n",
    "    res=model.predict(numerals)\n",
    "    class_id=np.argmax(res,axis=1)\n",
    "    for i in range(5):\n",
    "        cv.putText(img, str(class_id[i]),(50+i*100,180),cv.FONT_HERSHEY_SIMPLEX,1,(255,0,0),1)\n",
    "    winsound.Beep(1000,500)"
   ],
   "metadata": {
    "collapsed": false,
    "ExecuteTime": {
     "start_time": "2024-07-03T11:53:41.400136Z",
     "end_time": "2024-07-03T11:53:41.417139Z"
    }
   }
  },
  {
   "cell_type": "code",
   "execution_count": 8,
   "outputs": [],
   "source": [
    "BrushSiz=4\n",
    "LColor=(0,0,0)"
   ],
   "metadata": {
    "collapsed": false,
    "ExecuteTime": {
     "start_time": "2024-07-03T11:53:41.415138Z",
     "end_time": "2024-07-03T11:53:41.430142Z"
    }
   }
  },
  {
   "cell_type": "code",
   "execution_count": 9,
   "outputs": [],
   "source": [
    "def writing(event,x,y,flags,param):\n",
    "    if event==cv.EVENT_MOUSEMOVE and flags==cv.EVENT_FLAG_LBUTTON:\n",
    "        cv.circle(img,(x,y),BrushSiz,LColor,-1)"
   ],
   "metadata": {
    "collapsed": false,
    "ExecuteTime": {
     "start_time": "2024-07-03T11:53:41.431142Z",
     "end_time": "2024-07-03T11:53:41.450146Z"
    }
   }
  },
  {
   "cell_type": "code",
   "execution_count": 10,
   "outputs": [],
   "source": [
    "reset()\n",
    "cv.namedWindow('Writing')\n",
    "cv.setMouseCallback('Writing',writing)"
   ],
   "metadata": {
    "collapsed": false,
    "ExecuteTime": {
     "start_time": "2024-07-03T11:53:41.446144Z",
     "end_time": "2024-07-03T11:53:41.461149Z"
    }
   }
  },
  {
   "cell_type": "code",
   "execution_count": 11,
   "outputs": [
    {
     "ename": "AttributeError",
     "evalue": "'list' object has no attribute 'array'",
     "output_type": "error",
     "traceback": [
      "\u001B[1;31m---------------------------------------------------------------------------\u001B[0m",
      "\u001B[1;31mAttributeError\u001B[0m                            Traceback (most recent call last)",
      "Cell \u001B[1;32mIn[11], line 9\u001B[0m\n\u001B[0;32m      7\u001B[0m     show()\n\u001B[0;32m      8\u001B[0m \u001B[38;5;28;01melif\u001B[39;00m key\u001B[38;5;241m==\u001B[39m\u001B[38;5;28mord\u001B[39m(\u001B[38;5;124m'\u001B[39m\u001B[38;5;124mr\u001B[39m\u001B[38;5;124m'\u001B[39m):\n\u001B[1;32m----> 9\u001B[0m     \u001B[43mrecognitiion\u001B[49m\u001B[43m(\u001B[49m\u001B[43m)\u001B[49m\n\u001B[0;32m     10\u001B[0m \u001B[38;5;28;01melif\u001B[39;00m key\u001B[38;5;241m==\u001B[39m\u001B[38;5;28mord\u001B[39m(\u001B[38;5;124m'\u001B[39m\u001B[38;5;124mq\u001B[39m\u001B[38;5;124m'\u001B[39m):\n\u001B[0;32m     11\u001B[0m     \u001B[38;5;28;01mbreak\u001B[39;00m\n",
      "Cell \u001B[1;32mIn[7], line 2\u001B[0m, in \u001B[0;36mrecognitiion\u001B[1;34m()\u001B[0m\n\u001B[0;32m      1\u001B[0m \u001B[38;5;28;01mdef\u001B[39;00m \u001B[38;5;21mrecognitiion\u001B[39m():\n\u001B[1;32m----> 2\u001B[0m     numerals\u001B[38;5;241m=\u001B[39m\u001B[43mgrab_numerals\u001B[49m\u001B[43m(\u001B[49m\u001B[43m)\u001B[49m\n\u001B[0;32m      3\u001B[0m     numerals\u001B[38;5;241m=\u001B[39mnumerals\u001B[38;5;241m.\u001B[39mreshape(\u001B[38;5;241m5\u001B[39m,\u001B[38;5;241m784\u001B[39m)\n\u001B[0;32m      4\u001B[0m     numerals\u001B[38;5;241m=\u001B[39mnumerals\u001B[38;5;241m.\u001B[39mastype(np\u001B[38;5;241m.\u001B[39mfloat32)\u001B[38;5;241m/\u001B[39m\u001B[38;5;241m255.0\u001B[39m\n",
      "Cell \u001B[1;32mIn[5], line 7\u001B[0m, in \u001B[0;36mgrab_numerals\u001B[1;34m()\u001B[0m\n\u001B[0;32m      5\u001B[0m     roi\u001B[38;5;241m=\u001B[39mimg[\u001B[38;5;241m51\u001B[39m:\u001B[38;5;241m149\u001B[39m,\u001B[38;5;241m11\u001B[39m\u001B[38;5;241m+\u001B[39mi\u001B[38;5;241m*\u001B[39m\u001B[38;5;241m100\u001B[39m:\u001B[38;5;241m9\u001B[39m\u001B[38;5;241m+\u001B[39m(i\u001B[38;5;241m+\u001B[39m\u001B[38;5;241m1\u001B[39m)\u001B[38;5;241m*\u001B[39m\u001B[38;5;241m100\u001B[39m,\u001B[38;5;241m0\u001B[39m]\n\u001B[0;32m      6\u001B[0m     roi\u001B[38;5;241m=\u001B[39m\u001B[38;5;241m255\u001B[39m\u001B[38;5;241m-\u001B[39mcv\u001B[38;5;241m.\u001B[39mresize(roi,(\u001B[38;5;241m28\u001B[39m,\u001B[38;5;241m28\u001B[39m),interpolation\u001B[38;5;241m=\u001B[39mcv\u001B[38;5;241m.\u001B[39mINTER_CUBIC)\n\u001B[1;32m----> 7\u001B[0m \u001B[43mnumerals\u001B[49m\u001B[38;5;241;43m.\u001B[39;49m\u001B[43marray\u001B[49m(numerals)\n\u001B[0;32m      8\u001B[0m \u001B[38;5;28;01mreturn\u001B[39;00m numerals\n",
      "\u001B[1;31mAttributeError\u001B[0m: 'list' object has no attribute 'array'"
     ]
    }
   ],
   "source": [
    "while(True):\n",
    "    cv.imshow('Writing',img)\n",
    "    key=cv.waitKey(1)\n",
    "    if key==ord('e'):\n",
    "        reset()\n",
    "    elif key==ord('s'):\n",
    "        show()\n",
    "    elif key==ord('r'):\n",
    "        recognitiion()\n",
    "    elif key==ord('q'):\n",
    "        break\n",
    "\n",
    "cv.destroyAllWindows()"
   ],
   "metadata": {
    "collapsed": false
   }
  },
  {
   "cell_type": "code",
   "execution_count": null,
   "outputs": [],
   "source": [],
   "metadata": {
    "collapsed": false
   }
  }
 ],
 "metadata": {
  "kernelspec": {
   "display_name": "Python 3",
   "language": "python",
   "name": "python3"
  },
  "language_info": {
   "codemirror_mode": {
    "name": "ipython",
    "version": 2
   },
   "file_extension": ".py",
   "mimetype": "text/x-python",
   "name": "python",
   "nbconvert_exporter": "python",
   "pygments_lexer": "ipython2",
   "version": "2.7.6"
  }
 },
 "nbformat": 4,
 "nbformat_minor": 0
}
