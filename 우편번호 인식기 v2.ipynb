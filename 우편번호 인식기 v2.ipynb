{
 "cells": [
  {
   "cell_type": "code",
   "execution_count": 1,
   "metadata": {
    "collapsed": true,
    "ExecuteTime": {
     "start_time": "2024-07-05T11:51:50.644108Z",
     "end_time": "2024-07-05T11:51:54.108972Z"
    }
   },
   "outputs": [],
   "source": [
    "import numpy as np\n",
    "import tensorflow as tf\n",
    "import tensorflow.keras.datasets as ds"
   ]
  },
  {
   "cell_type": "code",
   "execution_count": 2,
   "outputs": [],
   "source": [
    "from tensorflow.keras.models import Sequential\n",
    "from tensorflow.keras.layers import Conv2D,MaxPooling2D,Flatten,Dropout,Dense\n",
    "from tensorflow.keras.optimizers import Adam"
   ],
   "metadata": {
    "collapsed": false,
    "ExecuteTime": {
     "start_time": "2024-07-05T11:52:10.417216Z",
     "end_time": "2024-07-05T11:52:10.425720Z"
    }
   }
  },
  {
   "cell_type": "code",
   "execution_count": 3,
   "outputs": [],
   "source": [
    "(x_train,y_train),(x_test,y_test)=ds.mnist.load_data()\n",
    "x_train=x_train.reshape(60000,28,28,1)\n",
    "x_test=x_test.reshape(10000,28,28,1)\n",
    "x_train=x_train.astype(np.float32)/255.0\n",
    "x_test=x_test.astype(np.float32)/255.0\n",
    "y_train=tf.keras.utils.to_categorical(y_train,10)\n",
    "y_test=tf.keras.utils.to_categorical(y_test,10)"
   ],
   "metadata": {
    "collapsed": false,
    "ExecuteTime": {
     "start_time": "2024-07-05T11:52:16.618765Z",
     "end_time": "2024-07-05T11:52:16.866835Z"
    }
   }
  },
  {
   "cell_type": "code",
   "execution_count": 4,
   "outputs": [],
   "source": [
    "cnn=Sequential()\n",
    "cnn.add(Conv2D(32,(3,3),activation='relu',input_shape=(28,28,1)))\n",
    "cnn.add(Conv2D(32,(3,3),activation='relu'))\n",
    "cnn.add(MaxPooling2D(pool_size=(2,2)))\n",
    "cnn.add(Dropout(0.25))\n",
    "cnn.add(Conv2D(64,(3,3),activation='relu'))\n",
    "cnn.add(Conv2D(64,(3,3),activation='relu'))\n",
    "cnn.add(MaxPooling2D(pool_size=(2,2)))\n",
    "cnn.add(Dropout(0.25))\n",
    "cnn.add(Flatten())\n",
    "cnn.add(Dense(units=512,activation='relu'))\n",
    "cnn.add(Dropout(0.5))\n",
    "cnn.add(Dense(units=10,activation='softmax'))"
   ],
   "metadata": {
    "collapsed": false,
    "ExecuteTime": {
     "start_time": "2024-07-05T11:53:12.092228Z",
     "end_time": "2024-07-05T11:53:12.247136Z"
    }
   }
  },
  {
   "cell_type": "code",
   "execution_count": 5,
   "outputs": [
    {
     "name": "stdout",
     "output_type": "stream",
     "text": [
      "Epoch 1/100\n",
      "469/469 - 13s - loss: 0.2362 - accuracy: 0.9250 - val_loss: 0.0448 - val_accuracy: 0.9853 - 13s/epoch - 28ms/step\n",
      "Epoch 2/100\n",
      "469/469 - 13s - loss: 0.0651 - accuracy: 0.9795 - val_loss: 0.0335 - val_accuracy: 0.9895 - 13s/epoch - 28ms/step\n",
      "Epoch 3/100\n",
      "469/469 - 13s - loss: 0.0491 - accuracy: 0.9848 - val_loss: 0.0261 - val_accuracy: 0.9918 - 13s/epoch - 27ms/step\n",
      "Epoch 4/100\n",
      "469/469 - 12s - loss: 0.0396 - accuracy: 0.9879 - val_loss: 0.0212 - val_accuracy: 0.9936 - 12s/epoch - 26ms/step\n",
      "Epoch 5/100\n",
      "469/469 - 12s - loss: 0.0343 - accuracy: 0.9898 - val_loss: 0.0199 - val_accuracy: 0.9929 - 12s/epoch - 26ms/step\n",
      "Epoch 6/100\n",
      "469/469 - 12s - loss: 0.0298 - accuracy: 0.9904 - val_loss: 0.0199 - val_accuracy: 0.9943 - 12s/epoch - 26ms/step\n",
      "Epoch 7/100\n",
      "469/469 - 12s - loss: 0.0271 - accuracy: 0.9915 - val_loss: 0.0172 - val_accuracy: 0.9940 - 12s/epoch - 26ms/step\n",
      "Epoch 8/100\n",
      "469/469 - 12s - loss: 0.0251 - accuracy: 0.9920 - val_loss: 0.0168 - val_accuracy: 0.9944 - 12s/epoch - 25ms/step\n",
      "Epoch 9/100\n",
      "469/469 - 12s - loss: 0.0220 - accuracy: 0.9933 - val_loss: 0.0202 - val_accuracy: 0.9937 - 12s/epoch - 25ms/step\n",
      "Epoch 10/100\n",
      "469/469 - 12s - loss: 0.0206 - accuracy: 0.9934 - val_loss: 0.0196 - val_accuracy: 0.9941 - 12s/epoch - 25ms/step\n",
      "Epoch 11/100\n",
      "469/469 - 13s - loss: 0.0192 - accuracy: 0.9937 - val_loss: 0.0193 - val_accuracy: 0.9939 - 13s/epoch - 27ms/step\n",
      "Epoch 12/100\n",
      "469/469 - 13s - loss: 0.0190 - accuracy: 0.9941 - val_loss: 0.0169 - val_accuracy: 0.9949 - 13s/epoch - 27ms/step\n",
      "Epoch 13/100\n",
      "469/469 - 13s - loss: 0.0181 - accuracy: 0.9943 - val_loss: 0.0196 - val_accuracy: 0.9938 - 13s/epoch - 27ms/step\n",
      "Epoch 14/100\n",
      "469/469 - 12s - loss: 0.0164 - accuracy: 0.9945 - val_loss: 0.0182 - val_accuracy: 0.9939 - 12s/epoch - 26ms/step\n",
      "Epoch 15/100\n",
      "469/469 - 12s - loss: 0.0158 - accuracy: 0.9949 - val_loss: 0.0210 - val_accuracy: 0.9946 - 12s/epoch - 25ms/step\n",
      "Epoch 16/100\n",
      "469/469 - 13s - loss: 0.0149 - accuracy: 0.9951 - val_loss: 0.0210 - val_accuracy: 0.9933 - 13s/epoch - 27ms/step\n",
      "Epoch 17/100\n",
      "469/469 - 12s - loss: 0.0122 - accuracy: 0.9959 - val_loss: 0.0180 - val_accuracy: 0.9947 - 12s/epoch - 25ms/step\n",
      "Epoch 18/100\n",
      "469/469 - 12s - loss: 0.0131 - accuracy: 0.9954 - val_loss: 0.0207 - val_accuracy: 0.9943 - 12s/epoch - 26ms/step\n",
      "Epoch 19/100\n",
      "469/469 - 12s - loss: 0.0123 - accuracy: 0.9963 - val_loss: 0.0179 - val_accuracy: 0.9953 - 12s/epoch - 26ms/step\n",
      "Epoch 20/100\n",
      "469/469 - 12s - loss: 0.0126 - accuracy: 0.9958 - val_loss: 0.0197 - val_accuracy: 0.9952 - 12s/epoch - 26ms/step\n",
      "Epoch 21/100\n",
      "469/469 - 12s - loss: 0.0115 - accuracy: 0.9963 - val_loss: 0.0192 - val_accuracy: 0.9947 - 12s/epoch - 26ms/step\n",
      "Epoch 22/100\n",
      "469/469 - 12s - loss: 0.0120 - accuracy: 0.9961 - val_loss: 0.0186 - val_accuracy: 0.9948 - 12s/epoch - 26ms/step\n",
      "Epoch 23/100\n",
      "469/469 - 12s - loss: 0.0102 - accuracy: 0.9970 - val_loss: 0.0186 - val_accuracy: 0.9944 - 12s/epoch - 26ms/step\n",
      "Epoch 24/100\n",
      "469/469 - 12s - loss: 0.0117 - accuracy: 0.9960 - val_loss: 0.0190 - val_accuracy: 0.9951 - 12s/epoch - 25ms/step\n",
      "Epoch 25/100\n",
      "469/469 - 12s - loss: 0.0091 - accuracy: 0.9970 - val_loss: 0.0221 - val_accuracy: 0.9939 - 12s/epoch - 26ms/step\n",
      "Epoch 26/100\n",
      "469/469 - 12s - loss: 0.0097 - accuracy: 0.9967 - val_loss: 0.0211 - val_accuracy: 0.9946 - 12s/epoch - 25ms/step\n",
      "Epoch 27/100\n",
      "469/469 - 12s - loss: 0.0089 - accuracy: 0.9973 - val_loss: 0.0202 - val_accuracy: 0.9948 - 12s/epoch - 26ms/step\n",
      "Epoch 28/100\n",
      "469/469 - 12s - loss: 0.0085 - accuracy: 0.9972 - val_loss: 0.0225 - val_accuracy: 0.9947 - 12s/epoch - 26ms/step\n",
      "Epoch 29/100\n",
      "469/469 - 12s - loss: 0.0091 - accuracy: 0.9970 - val_loss: 0.0230 - val_accuracy: 0.9944 - 12s/epoch - 26ms/step\n",
      "Epoch 30/100\n",
      "469/469 - 12s - loss: 0.0094 - accuracy: 0.9967 - val_loss: 0.0197 - val_accuracy: 0.9951 - 12s/epoch - 27ms/step\n",
      "Epoch 31/100\n",
      "469/469 - 13s - loss: 0.0081 - accuracy: 0.9973 - val_loss: 0.0251 - val_accuracy: 0.9941 - 13s/epoch - 27ms/step\n",
      "Epoch 32/100\n",
      "469/469 - 12s - loss: 0.0077 - accuracy: 0.9975 - val_loss: 0.0215 - val_accuracy: 0.9946 - 12s/epoch - 26ms/step\n",
      "Epoch 33/100\n",
      "469/469 - 12s - loss: 0.0095 - accuracy: 0.9969 - val_loss: 0.0192 - val_accuracy: 0.9951 - 12s/epoch - 26ms/step\n",
      "Epoch 34/100\n",
      "469/469 - 12s - loss: 0.0091 - accuracy: 0.9971 - val_loss: 0.0192 - val_accuracy: 0.9955 - 12s/epoch - 26ms/step\n",
      "Epoch 35/100\n",
      "469/469 - 12s - loss: 0.0085 - accuracy: 0.9973 - val_loss: 0.0215 - val_accuracy: 0.9951 - 12s/epoch - 26ms/step\n",
      "Epoch 36/100\n",
      "469/469 - 12s - loss: 0.0075 - accuracy: 0.9974 - val_loss: 0.0225 - val_accuracy: 0.9947 - 12s/epoch - 25ms/step\n",
      "Epoch 37/100\n",
      "469/469 - 13s - loss: 0.0079 - accuracy: 0.9974 - val_loss: 0.0217 - val_accuracy: 0.9949 - 13s/epoch - 27ms/step\n",
      "Epoch 38/100\n",
      "469/469 - 13s - loss: 0.0062 - accuracy: 0.9981 - val_loss: 0.0301 - val_accuracy: 0.9948 - 13s/epoch - 28ms/step\n",
      "Epoch 39/100\n",
      "469/469 - 12s - loss: 0.0065 - accuracy: 0.9979 - val_loss: 0.0241 - val_accuracy: 0.9947 - 12s/epoch - 26ms/step\n",
      "Epoch 40/100\n",
      "469/469 - 12s - loss: 0.0088 - accuracy: 0.9970 - val_loss: 0.0207 - val_accuracy: 0.9951 - 12s/epoch - 26ms/step\n",
      "Epoch 41/100\n",
      "469/469 - 13s - loss: 0.0060 - accuracy: 0.9979 - val_loss: 0.0247 - val_accuracy: 0.9945 - 13s/epoch - 29ms/step\n",
      "Epoch 42/100\n",
      "469/469 - 13s - loss: 0.0074 - accuracy: 0.9978 - val_loss: 0.0240 - val_accuracy: 0.9944 - 13s/epoch - 28ms/step\n",
      "Epoch 43/100\n",
      "469/469 - 12s - loss: 0.0069 - accuracy: 0.9978 - val_loss: 0.0249 - val_accuracy: 0.9943 - 12s/epoch - 26ms/step\n",
      "Epoch 44/100\n",
      "469/469 - 12s - loss: 0.0075 - accuracy: 0.9973 - val_loss: 0.0275 - val_accuracy: 0.9936 - 12s/epoch - 26ms/step\n",
      "Epoch 45/100\n",
      "469/469 - 13s - loss: 0.0072 - accuracy: 0.9976 - val_loss: 0.0229 - val_accuracy: 0.9945 - 13s/epoch - 27ms/step\n",
      "Epoch 46/100\n",
      "469/469 - 12s - loss: 0.0070 - accuracy: 0.9980 - val_loss: 0.0219 - val_accuracy: 0.9949 - 12s/epoch - 26ms/step\n",
      "Epoch 47/100\n",
      "469/469 - 15s - loss: 0.0067 - accuracy: 0.9980 - val_loss: 0.0260 - val_accuracy: 0.9942 - 15s/epoch - 32ms/step\n",
      "Epoch 48/100\n",
      "469/469 - 13s - loss: 0.0073 - accuracy: 0.9977 - val_loss: 0.0310 - val_accuracy: 0.9947 - 13s/epoch - 27ms/step\n",
      "Epoch 49/100\n",
      "469/469 - 12s - loss: 0.0057 - accuracy: 0.9982 - val_loss: 0.0299 - val_accuracy: 0.9946 - 12s/epoch - 25ms/step\n",
      "Epoch 50/100\n",
      "469/469 - 12s - loss: 0.0071 - accuracy: 0.9976 - val_loss: 0.0227 - val_accuracy: 0.9948 - 12s/epoch - 26ms/step\n",
      "Epoch 51/100\n",
      "469/469 - 12s - loss: 0.0068 - accuracy: 0.9979 - val_loss: 0.0270 - val_accuracy: 0.9945 - 12s/epoch - 26ms/step\n",
      "Epoch 52/100\n",
      "469/469 - 12s - loss: 0.0052 - accuracy: 0.9984 - val_loss: 0.0297 - val_accuracy: 0.9944 - 12s/epoch - 25ms/step\n",
      "Epoch 53/100\n",
      "469/469 - 12s - loss: 0.0060 - accuracy: 0.9980 - val_loss: 0.0319 - val_accuracy: 0.9940 - 12s/epoch - 25ms/step\n",
      "Epoch 54/100\n",
      "469/469 - 12s - loss: 0.0059 - accuracy: 0.9982 - val_loss: 0.0300 - val_accuracy: 0.9942 - 12s/epoch - 25ms/step\n",
      "Epoch 55/100\n",
      "469/469 - 12s - loss: 0.0069 - accuracy: 0.9979 - val_loss: 0.0306 - val_accuracy: 0.9944 - 12s/epoch - 26ms/step\n",
      "Epoch 56/100\n",
      "469/469 - 12s - loss: 0.0074 - accuracy: 0.9980 - val_loss: 0.0248 - val_accuracy: 0.9946 - 12s/epoch - 25ms/step\n",
      "Epoch 57/100\n",
      "469/469 - 12s - loss: 0.0056 - accuracy: 0.9980 - val_loss: 0.0366 - val_accuracy: 0.9939 - 12s/epoch - 26ms/step\n",
      "Epoch 58/100\n",
      "469/469 - 12s - loss: 0.0058 - accuracy: 0.9981 - val_loss: 0.0267 - val_accuracy: 0.9949 - 12s/epoch - 26ms/step\n",
      "Epoch 59/100\n",
      "469/469 - 13s - loss: 0.0063 - accuracy: 0.9979 - val_loss: 0.0268 - val_accuracy: 0.9947 - 13s/epoch - 27ms/step\n",
      "Epoch 60/100\n",
      "469/469 - 12s - loss: 0.0065 - accuracy: 0.9982 - val_loss: 0.0345 - val_accuracy: 0.9945 - 12s/epoch - 26ms/step\n",
      "Epoch 61/100\n",
      "469/469 - 12s - loss: 0.0059 - accuracy: 0.9981 - val_loss: 0.0269 - val_accuracy: 0.9949 - 12s/epoch - 25ms/step\n",
      "Epoch 62/100\n",
      "469/469 - 12s - loss: 0.0059 - accuracy: 0.9983 - val_loss: 0.0242 - val_accuracy: 0.9951 - 12s/epoch - 25ms/step\n",
      "Epoch 63/100\n",
      "469/469 - 12s - loss: 0.0071 - accuracy: 0.9978 - val_loss: 0.0263 - val_accuracy: 0.9949 - 12s/epoch - 25ms/step\n",
      "Epoch 64/100\n",
      "469/469 - 12s - loss: 0.0054 - accuracy: 0.9983 - val_loss: 0.0311 - val_accuracy: 0.9938 - 12s/epoch - 25ms/step\n",
      "Epoch 65/100\n",
      "469/469 - 12s - loss: 0.0065 - accuracy: 0.9980 - val_loss: 0.0345 - val_accuracy: 0.9944 - 12s/epoch - 25ms/step\n",
      "Epoch 66/100\n",
      "469/469 - 12s - loss: 0.0070 - accuracy: 0.9978 - val_loss: 0.0272 - val_accuracy: 0.9936 - 12s/epoch - 26ms/step\n",
      "Epoch 67/100\n",
      "469/469 - 12s - loss: 0.0054 - accuracy: 0.9983 - val_loss: 0.0283 - val_accuracy: 0.9953 - 12s/epoch - 26ms/step\n",
      "Epoch 68/100\n",
      "469/469 - 12s - loss: 0.0046 - accuracy: 0.9985 - val_loss: 0.0250 - val_accuracy: 0.9951 - 12s/epoch - 26ms/step\n",
      "Epoch 69/100\n",
      "469/469 - 13s - loss: 0.0053 - accuracy: 0.9984 - val_loss: 0.0271 - val_accuracy: 0.9953 - 13s/epoch - 29ms/step\n",
      "Epoch 70/100\n",
      "469/469 - 12s - loss: 0.0068 - accuracy: 0.9981 - val_loss: 0.0290 - val_accuracy: 0.9944 - 12s/epoch - 26ms/step\n",
      "Epoch 71/100\n",
      "469/469 - 12s - loss: 0.0055 - accuracy: 0.9984 - val_loss: 0.0254 - val_accuracy: 0.9951 - 12s/epoch - 25ms/step\n",
      "Epoch 72/100\n",
      "469/469 - 12s - loss: 0.0052 - accuracy: 0.9983 - val_loss: 0.0310 - val_accuracy: 0.9948 - 12s/epoch - 26ms/step\n",
      "Epoch 73/100\n",
      "469/469 - 12s - loss: 0.0055 - accuracy: 0.9983 - val_loss: 0.0244 - val_accuracy: 0.9953 - 12s/epoch - 25ms/step\n",
      "Epoch 74/100\n",
      "469/469 - 12s - loss: 0.0062 - accuracy: 0.9980 - val_loss: 0.0290 - val_accuracy: 0.9949 - 12s/epoch - 25ms/step\n",
      "Epoch 75/100\n",
      "469/469 - 12s - loss: 0.0051 - accuracy: 0.9984 - val_loss: 0.0275 - val_accuracy: 0.9949 - 12s/epoch - 26ms/step\n",
      "Epoch 76/100\n",
      "469/469 - 12s - loss: 0.0057 - accuracy: 0.9984 - val_loss: 0.0286 - val_accuracy: 0.9952 - 12s/epoch - 26ms/step\n",
      "Epoch 77/100\n",
      "469/469 - 12s - loss: 0.0047 - accuracy: 0.9984 - val_loss: 0.0328 - val_accuracy: 0.9948 - 12s/epoch - 26ms/step\n",
      "Epoch 78/100\n",
      "469/469 - 12s - loss: 0.0057 - accuracy: 0.9981 - val_loss: 0.0305 - val_accuracy: 0.9943 - 12s/epoch - 25ms/step\n",
      "Epoch 79/100\n",
      "469/469 - 12s - loss: 0.0053 - accuracy: 0.9985 - val_loss: 0.0254 - val_accuracy: 0.9947 - 12s/epoch - 25ms/step\n",
      "Epoch 80/100\n",
      "469/469 - 12s - loss: 0.0056 - accuracy: 0.9984 - val_loss: 0.0297 - val_accuracy: 0.9948 - 12s/epoch - 25ms/step\n",
      "Epoch 81/100\n",
      "469/469 - 12s - loss: 0.0044 - accuracy: 0.9985 - val_loss: 0.0304 - val_accuracy: 0.9949 - 12s/epoch - 25ms/step\n",
      "Epoch 82/100\n",
      "469/469 - 12s - loss: 0.0047 - accuracy: 0.9987 - val_loss: 0.0280 - val_accuracy: 0.9952 - 12s/epoch - 26ms/step\n",
      "Epoch 83/100\n",
      "469/469 - 12s - loss: 0.0064 - accuracy: 0.9983 - val_loss: 0.0244 - val_accuracy: 0.9957 - 12s/epoch - 25ms/step\n",
      "Epoch 84/100\n",
      "469/469 - 12s - loss: 0.0052 - accuracy: 0.9984 - val_loss: 0.0252 - val_accuracy: 0.9951 - 12s/epoch - 26ms/step\n",
      "Epoch 85/100\n",
      "469/469 - 12s - loss: 0.0040 - accuracy: 0.9988 - val_loss: 0.0263 - val_accuracy: 0.9956 - 12s/epoch - 26ms/step\n",
      "Epoch 86/100\n",
      "469/469 - 13s - loss: 0.0072 - accuracy: 0.9983 - val_loss: 0.0262 - val_accuracy: 0.9949 - 13s/epoch - 27ms/step\n",
      "Epoch 87/100\n",
      "469/469 - 13s - loss: 0.0042 - accuracy: 0.9987 - val_loss: 0.0279 - val_accuracy: 0.9953 - 13s/epoch - 27ms/step\n",
      "Epoch 88/100\n",
      "469/469 - 12s - loss: 0.0058 - accuracy: 0.9985 - val_loss: 0.0263 - val_accuracy: 0.9953 - 12s/epoch - 26ms/step\n",
      "Epoch 89/100\n",
      "469/469 - 12s - loss: 0.0072 - accuracy: 0.9980 - val_loss: 0.0313 - val_accuracy: 0.9952 - 12s/epoch - 26ms/step\n",
      "Epoch 90/100\n",
      "469/469 - 12s - loss: 0.0038 - accuracy: 0.9987 - val_loss: 0.0256 - val_accuracy: 0.9948 - 12s/epoch - 25ms/step\n",
      "Epoch 91/100\n",
      "469/469 - 12s - loss: 0.0039 - accuracy: 0.9987 - val_loss: 0.0348 - val_accuracy: 0.9944 - 12s/epoch - 26ms/step\n",
      "Epoch 92/100\n",
      "469/469 - 12s - loss: 0.0063 - accuracy: 0.9984 - val_loss: 0.0301 - val_accuracy: 0.9949 - 12s/epoch - 25ms/step\n",
      "Epoch 93/100\n",
      "469/469 - 12s - loss: 0.0057 - accuracy: 0.9983 - val_loss: 0.0336 - val_accuracy: 0.9948 - 12s/epoch - 25ms/step\n",
      "Epoch 94/100\n",
      "469/469 - 12s - loss: 0.0040 - accuracy: 0.9987 - val_loss: 0.0322 - val_accuracy: 0.9948 - 12s/epoch - 25ms/step\n",
      "Epoch 95/100\n",
      "469/469 - 12s - loss: 0.0047 - accuracy: 0.9987 - val_loss: 0.0291 - val_accuracy: 0.9948 - 12s/epoch - 25ms/step\n",
      "Epoch 96/100\n",
      "469/469 - 12s - loss: 0.0058 - accuracy: 0.9985 - val_loss: 0.0306 - val_accuracy: 0.9951 - 12s/epoch - 25ms/step\n",
      "Epoch 97/100\n",
      "469/469 - 12s - loss: 0.0051 - accuracy: 0.9984 - val_loss: 0.0326 - val_accuracy: 0.9953 - 12s/epoch - 26ms/step\n",
      "Epoch 98/100\n",
      "469/469 - 12s - loss: 0.0046 - accuracy: 0.9988 - val_loss: 0.0314 - val_accuracy: 0.9952 - 12s/epoch - 25ms/step\n",
      "Epoch 99/100\n",
      "469/469 - 12s - loss: 0.0064 - accuracy: 0.9982 - val_loss: 0.0320 - val_accuracy: 0.9946 - 12s/epoch - 26ms/step\n",
      "Epoch 100/100\n",
      "469/469 - 12s - loss: 0.0060 - accuracy: 0.9983 - val_loss: 0.0328 - val_accuracy: 0.9956 - 12s/epoch - 25ms/step\n"
     ]
    }
   ],
   "source": [
    "cnn.compile(loss='categorical_crossentropy',optimizer=Adam\n",
    "(learning_rate=0.001),metrics=['accuracy'])\n",
    "hist=cnn.fit(x_train,y_train,batch_size=128,epochs=100,validation_data=(x_test,y_test),verbose=2)"
   ],
   "metadata": {
    "collapsed": false,
    "ExecuteTime": {
     "start_time": "2024-07-05T11:53:42.775930Z",
     "end_time": "2024-07-05T12:14:03.710723Z"
    }
   }
  },
  {
   "cell_type": "code",
   "execution_count": 6,
   "outputs": [],
   "source": [
    "cnn.save('cnn_v2.h5')"
   ],
   "metadata": {
    "collapsed": false,
    "ExecuteTime": {
     "start_time": "2024-07-05T12:14:09.195907Z",
     "end_time": "2024-07-05T12:14:09.256419Z"
    }
   }
  },
  {
   "cell_type": "code",
   "execution_count": 7,
   "outputs": [
    {
     "name": "stdout",
     "output_type": "stream",
     "text": [
      "정확률= 99.55999851226807\n"
     ]
    }
   ],
   "source": [
    "res=cnn.evaluate(x_test,y_test,verbose=0)\n",
    "print('정확률=', res[1]*100)"
   ],
   "metadata": {
    "collapsed": false,
    "ExecuteTime": {
     "start_time": "2024-07-05T12:14:22.722922Z",
     "end_time": "2024-07-05T12:14:23.404542Z"
    }
   }
  },
  {
   "cell_type": "code",
   "execution_count": 10,
   "outputs": [
    {
     "name": "stdout",
     "output_type": "stream",
     "text": [
      "1/1 [==============================] - 0s 54ms/step\n",
      "You got 4 out of 5 correct.\n",
      "정답률:  80.0 %\n"
     ]
    }
   ],
   "source": [
    "import numpy as np\n",
    "import tensorflow as tf\n",
    "import cv2 as cv\n",
    "import matplotlib.pyplot as plt\n",
    "import winsound\n",
    "\n",
    "# 모델 로드\n",
    "model = tf.keras.models.load_model('cnn_v2.h5')\n",
    "\n",
    "user_input_numbers = []\n",
    "predicted_numbers = []  # 전역 변수로 이동\n",
    "\n",
    "def reset():\n",
    "    global img\n",
    "    img = np.ones((200, 520, 3), dtype=np.uint8) * 255\n",
    "    for i in range(5):\n",
    "        cv.rectangle(img, (10 + i * 100, 50), (10 + (i + 1) * 100, 150), (0, 0, 255))\n",
    "    cv.putText(img, 'e:erase s:show r:recognition q:quit', (10, 40), cv.FONT_HERSHEY_SIMPLEX, 0.8, (255, 0, 0), 1)\n",
    "\n",
    "def grab_numerals():\n",
    "    numerals = []\n",
    "    for i in range(5):\n",
    "        roi = img[50:150, 10 + i * 100:110 + i * 100, 0]\n",
    "        roi = 255 - cv.resize(roi, (28, 28), interpolation=cv.INTER_CUBIC)\n",
    "        numerals.append(roi)\n",
    "    numerals = np.array(numerals)\n",
    "    return numerals\n",
    "\n",
    "def show():\n",
    "    numerals = grab_numerals()\n",
    "    plt.figure(figsize=(25, 5))\n",
    "    for i in range(5):\n",
    "        plt.subplot(1, 5, i + 1)\n",
    "        plt.imshow(numerals[i], cmap='gray')\n",
    "        plt.xticks([]); plt.yticks([])\n",
    "    plt.show()\n",
    "\n",
    "def recognition():\n",
    "    global predicted_numbers  # 전역 변수 사용\n",
    "    numerals = grab_numerals()\n",
    "    numerals = numerals.reshape(5, 28, 28,1)\n",
    "    numerals = numerals.astype(np.float32) / 255.0\n",
    "    res = model.predict(numerals)\n",
    "    class_id = np.argmax(res, axis=1)\n",
    "    predicted_numbers = class_id.tolist()  # 예측 결과 저장\n",
    "    for i in range(5):\n",
    "        cv.putText(img, str(class_id[i]), (50 + i * 100, 180), cv.FONT_HERSHEY_SIMPLEX, 1, (255, 0, 0), 1)\n",
    "    winsound.Beep(1000, 500)\n",
    "\n",
    "BrushSiz = 4\n",
    "LColor = (0, 0, 0)\n",
    "\n",
    "def writing(event, x, y, flags, param):\n",
    "    if event == cv.EVENT_MOUSEMOVE and flags == cv.EVENT_FLAG_LBUTTON:\n",
    "        cv.circle(img, (x, y), BrushSiz, LColor, -1)\n",
    "\n",
    "reset()\n",
    "cv.namedWindow('Writing')\n",
    "cv.setMouseCallback('Writing', writing)\n",
    "\n",
    "while True:\n",
    "    cv.imshow('Writing', img)\n",
    "    key = cv.waitKey(1)\n",
    "    if key == ord('e'):\n",
    "        reset()\n",
    "    elif key == ord('s'):\n",
    "        show()\n",
    "    elif key == ord('r'):\n",
    "        recognition()\n",
    "    elif key == ord('q'):\n",
    "        break\n",
    "\n",
    "cv.destroyAllWindows()\n",
    "\n",
    "# 사용자에게 입력 숫자 질문\n",
    "for i in range(5):\n",
    "    num = int(input(f\"Enter the number at position {i+1}: \"))\n",
    "    user_input_numbers.append(num)\n",
    "\n",
    "# 정답 개수 계산\n",
    "correct_count = sum([1 for i in range(5) if user_input_numbers[i] == predicted_numbers[i]])\n",
    "print(f\"You got {correct_count} out of 5 correct.\")\n",
    "print(\"정답률: \",correct_count/5*100,\"%\" )"
   ],
   "metadata": {
    "collapsed": false,
    "ExecuteTime": {
     "start_time": "2024-07-05T12:34:41.232137Z",
     "end_time": "2024-07-05T12:35:00.527890Z"
    }
   }
  },
  {
   "cell_type": "code",
   "execution_count": null,
   "outputs": [],
   "source": [],
   "metadata": {
    "collapsed": false
   }
  }
 ],
 "metadata": {
  "kernelspec": {
   "display_name": "Python 3",
   "language": "python",
   "name": "python3"
  },
  "language_info": {
   "codemirror_mode": {
    "name": "ipython",
    "version": 2
   },
   "file_extension": ".py",
   "mimetype": "text/x-python",
   "name": "python",
   "nbconvert_exporter": "python",
   "pygments_lexer": "ipython2",
   "version": "2.7.6"
  }
 },
 "nbformat": 4,
 "nbformat_minor": 0
}
