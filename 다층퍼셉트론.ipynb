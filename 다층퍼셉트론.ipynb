{
 "cells": [
  {
   "cell_type": "code",
   "execution_count": 14,
   "outputs": [],
   "source": [
    "import numpy as np\n",
    "import tensorflow as tf\n",
    "import tensorflow.keras.datasets as ds"
   ],
   "metadata": {
    "collapsed": false,
    "ExecuteTime": {
     "start_time": "2024-07-01T12:47:59.230607Z",
     "end_time": "2024-07-01T12:48:04.066488Z"
    }
   }
  },
  {
   "cell_type": "code",
   "execution_count": 15,
   "outputs": [],
   "source": [
    "from tensorflow.keras.models import Sequential\n",
    "from tensorflow.keras.layers import Dense\n",
    "from tensorflow.keras.optimizers import SGD"
   ],
   "metadata": {
    "collapsed": false,
    "ExecuteTime": {
     "start_time": "2024-07-01T12:49:01.218975Z",
     "end_time": "2024-07-01T12:49:01.228978Z"
    }
   }
  },
  {
   "cell_type": "code",
   "execution_count": 16,
   "outputs": [
    {
     "name": "stdout",
     "output_type": "stream",
     "text": [
      "Downloading data from https://storage.googleapis.com/tensorflow/tf-keras-datasets/mnist.npz\n",
      "11490434/11490434 [==============================] - 2s 0us/step\n"
     ]
    }
   ],
   "source": [
    "(x_train, y_train), (x_test, y_test)=ds.mnist.load_data()"
   ],
   "metadata": {
    "collapsed": false,
    "ExecuteTime": {
     "start_time": "2024-07-01T12:49:49.417688Z",
     "end_time": "2024-07-01T12:49:51.735112Z"
    }
   }
  },
  {
   "cell_type": "code",
   "execution_count": 17,
   "outputs": [],
   "source": [
    "x_train=x_train.reshape(60000,784)"
   ],
   "metadata": {
    "collapsed": false,
    "ExecuteTime": {
     "start_time": "2024-07-01T12:50:18.260164Z",
     "end_time": "2024-07-01T12:50:18.274601Z"
    }
   }
  },
  {
   "cell_type": "code",
   "execution_count": 18,
   "outputs": [],
   "source": [
    "x_test=x_test.reshape(10000,784)"
   ],
   "metadata": {
    "collapsed": false,
    "ExecuteTime": {
     "start_time": "2024-07-01T12:50:37.483781Z",
     "end_time": "2024-07-01T12:50:37.486781Z"
    }
   }
  },
  {
   "cell_type": "code",
   "execution_count": 19,
   "outputs": [],
   "source": [
    "x_train=x_train.astype(np.float32)/255"
   ],
   "metadata": {
    "collapsed": false,
    "ExecuteTime": {
     "start_time": "2024-07-01T14:12:33.445723Z",
     "end_time": "2024-07-01T14:12:33.556468Z"
    }
   }
  },
  {
   "cell_type": "code",
   "execution_count": 20,
   "outputs": [],
   "source": [
    "x_test=x_test.astype(np.float32)/255"
   ],
   "metadata": {
    "collapsed": false,
    "ExecuteTime": {
     "start_time": "2024-07-01T14:13:36.495205Z",
     "end_time": "2024-07-01T14:13:36.519658Z"
    }
   }
  },
  {
   "cell_type": "code",
   "execution_count": 21,
   "outputs": [],
   "source": [
    "y_train=tf.keras.utils.to_categorical(y_train,10)"
   ],
   "metadata": {
    "collapsed": false,
    "ExecuteTime": {
     "start_time": "2024-07-01T14:15:42.001967Z",
     "end_time": "2024-07-01T14:15:42.019016Z"
    }
   }
  },
  {
   "cell_type": "code",
   "execution_count": 22,
   "outputs": [],
   "source": [
    "y_test=tf.keras.utils.to_categorical(y_test,10)"
   ],
   "metadata": {
    "collapsed": false,
    "ExecuteTime": {
     "start_time": "2024-07-01T14:16:07.150585Z",
     "end_time": "2024-07-01T14:16:07.158588Z"
    }
   }
  },
  {
   "cell_type": "code",
   "execution_count": 23,
   "outputs": [],
   "source": [
    "mlp=Sequential()"
   ],
   "metadata": {
    "collapsed": false,
    "ExecuteTime": {
     "start_time": "2024-07-01T14:36:15.141591Z",
     "end_time": "2024-07-01T14:36:15.163597Z"
    }
   }
  },
  {
   "cell_type": "code",
   "execution_count": 24,
   "outputs": [],
   "source": [
    "mlp.add(Dense(units=512,activation='tanh', input_shape=(784,)))"
   ],
   "metadata": {
    "collapsed": false,
    "ExecuteTime": {
     "start_time": "2024-07-01T14:37:33.964389Z",
     "end_time": "2024-07-01T14:37:33.990447Z"
    }
   }
  },
  {
   "cell_type": "code",
   "execution_count": 25,
   "outputs": [],
   "source": [
    "mlp.add(Dense(units=10,activation='softmax'))"
   ],
   "metadata": {
    "collapsed": false,
    "ExecuteTime": {
     "start_time": "2024-07-01T14:39:19.086681Z",
     "end_time": "2024-07-01T14:39:19.108263Z"
    }
   }
  },
  {
   "cell_type": "code",
   "execution_count": 26,
   "outputs": [],
   "source": [
    "mlp.compile(loss='MSE',optimizer=SGD(learning_rate=0.01),metrics=['accuracy'])"
   ],
   "metadata": {
    "collapsed": false,
    "ExecuteTime": {
     "start_time": "2024-07-01T14:40:20.683840Z",
     "end_time": "2024-07-01T14:40:20.694992Z"
    }
   }
  },
  {
   "cell_type": "code",
   "execution_count": 34,
   "outputs": [
    {
     "name": "stdout",
     "output_type": "stream",
     "text": [
      "Epoch 1/50\n",
      "469/469 - 1s - loss: 0.0141 - accuracy: 0.9113 - val_loss: 0.0135 - val_accuracy: 0.9143 - 654ms/epoch - 1ms/step\n",
      "Epoch 2/50\n",
      "469/469 - 1s - loss: 0.0141 - accuracy: 0.9114 - val_loss: 0.0135 - val_accuracy: 0.9146 - 610ms/epoch - 1ms/step\n",
      "Epoch 3/50\n",
      "469/469 - 1s - loss: 0.0141 - accuracy: 0.9115 - val_loss: 0.0135 - val_accuracy: 0.9146 - 607ms/epoch - 1ms/step\n",
      "Epoch 4/50\n",
      "469/469 - 1s - loss: 0.0141 - accuracy: 0.9117 - val_loss: 0.0135 - val_accuracy: 0.9144 - 615ms/epoch - 1ms/step\n",
      "Epoch 5/50\n",
      "469/469 - 1s - loss: 0.0141 - accuracy: 0.9118 - val_loss: 0.0134 - val_accuracy: 0.9146 - 610ms/epoch - 1ms/step\n",
      "Epoch 6/50\n",
      "469/469 - 1s - loss: 0.0140 - accuracy: 0.9119 - val_loss: 0.0134 - val_accuracy: 0.9147 - 608ms/epoch - 1ms/step\n",
      "Epoch 7/50\n",
      "469/469 - 1s - loss: 0.0140 - accuracy: 0.9120 - val_loss: 0.0134 - val_accuracy: 0.9147 - 614ms/epoch - 1ms/step\n",
      "Epoch 8/50\n",
      "469/469 - 1s - loss: 0.0140 - accuracy: 0.9122 - val_loss: 0.0134 - val_accuracy: 0.9148 - 609ms/epoch - 1ms/step\n",
      "Epoch 9/50\n",
      "469/469 - 1s - loss: 0.0140 - accuracy: 0.9123 - val_loss: 0.0134 - val_accuracy: 0.9149 - 607ms/epoch - 1ms/step\n",
      "Epoch 10/50\n",
      "469/469 - 1s - loss: 0.0140 - accuracy: 0.9123 - val_loss: 0.0134 - val_accuracy: 0.9149 - 611ms/epoch - 1ms/step\n",
      "Epoch 11/50\n",
      "469/469 - 1s - loss: 0.0140 - accuracy: 0.9125 - val_loss: 0.0134 - val_accuracy: 0.9150 - 611ms/epoch - 1ms/step\n",
      "Epoch 12/50\n",
      "469/469 - 1s - loss: 0.0139 - accuracy: 0.9125 - val_loss: 0.0133 - val_accuracy: 0.9152 - 611ms/epoch - 1ms/step\n",
      "Epoch 13/50\n",
      "469/469 - 1s - loss: 0.0139 - accuracy: 0.9126 - val_loss: 0.0133 - val_accuracy: 0.9155 - 611ms/epoch - 1ms/step\n",
      "Epoch 14/50\n",
      "469/469 - 1s - loss: 0.0139 - accuracy: 0.9127 - val_loss: 0.0133 - val_accuracy: 0.9155 - 613ms/epoch - 1ms/step\n",
      "Epoch 15/50\n",
      "469/469 - 1s - loss: 0.0139 - accuracy: 0.9128 - val_loss: 0.0133 - val_accuracy: 0.9154 - 610ms/epoch - 1ms/step\n",
      "Epoch 16/50\n",
      "469/469 - 1s - loss: 0.0139 - accuracy: 0.9130 - val_loss: 0.0133 - val_accuracy: 0.9160 - 615ms/epoch - 1ms/step\n",
      "Epoch 17/50\n",
      "469/469 - 1s - loss: 0.0138 - accuracy: 0.9129 - val_loss: 0.0133 - val_accuracy: 0.9157 - 620ms/epoch - 1ms/step\n",
      "Epoch 18/50\n",
      "469/469 - 1s - loss: 0.0138 - accuracy: 0.9130 - val_loss: 0.0132 - val_accuracy: 0.9160 - 612ms/epoch - 1ms/step\n",
      "Epoch 19/50\n",
      "469/469 - 1s - loss: 0.0138 - accuracy: 0.9132 - val_loss: 0.0132 - val_accuracy: 0.9160 - 614ms/epoch - 1ms/step\n",
      "Epoch 20/50\n",
      "469/469 - 1s - loss: 0.0138 - accuracy: 0.9133 - val_loss: 0.0132 - val_accuracy: 0.9159 - 614ms/epoch - 1ms/step\n",
      "Epoch 21/50\n",
      "469/469 - 1s - loss: 0.0138 - accuracy: 0.9134 - val_loss: 0.0132 - val_accuracy: 0.9160 - 613ms/epoch - 1ms/step\n",
      "Epoch 22/50\n",
      "469/469 - 1s - loss: 0.0138 - accuracy: 0.9134 - val_loss: 0.0132 - val_accuracy: 0.9161 - 611ms/epoch - 1ms/step\n",
      "Epoch 23/50\n",
      "469/469 - 1s - loss: 0.0137 - accuracy: 0.9135 - val_loss: 0.0132 - val_accuracy: 0.9161 - 613ms/epoch - 1ms/step\n",
      "Epoch 24/50\n",
      "469/469 - 1s - loss: 0.0137 - accuracy: 0.9137 - val_loss: 0.0132 - val_accuracy: 0.9161 - 611ms/epoch - 1ms/step\n",
      "Epoch 25/50\n",
      "469/469 - 1s - loss: 0.0137 - accuracy: 0.9138 - val_loss: 0.0131 - val_accuracy: 0.9162 - 614ms/epoch - 1ms/step\n",
      "Epoch 26/50\n",
      "469/469 - 1s - loss: 0.0137 - accuracy: 0.9139 - val_loss: 0.0131 - val_accuracy: 0.9161 - 615ms/epoch - 1ms/step\n",
      "Epoch 27/50\n",
      "469/469 - 1s - loss: 0.0137 - accuracy: 0.9141 - val_loss: 0.0131 - val_accuracy: 0.9161 - 616ms/epoch - 1ms/step\n",
      "Epoch 28/50\n",
      "469/469 - 1s - loss: 0.0137 - accuracy: 0.9142 - val_loss: 0.0131 - val_accuracy: 0.9164 - 615ms/epoch - 1ms/step\n",
      "Epoch 29/50\n",
      "469/469 - 1s - loss: 0.0137 - accuracy: 0.9143 - val_loss: 0.0131 - val_accuracy: 0.9165 - 614ms/epoch - 1ms/step\n",
      "Epoch 30/50\n",
      "469/469 - 1s - loss: 0.0136 - accuracy: 0.9143 - val_loss: 0.0131 - val_accuracy: 0.9163 - 611ms/epoch - 1ms/step\n",
      "Epoch 31/50\n",
      "469/469 - 1s - loss: 0.0136 - accuracy: 0.9145 - val_loss: 0.0131 - val_accuracy: 0.9164 - 618ms/epoch - 1ms/step\n",
      "Epoch 32/50\n",
      "469/469 - 1s - loss: 0.0136 - accuracy: 0.9146 - val_loss: 0.0130 - val_accuracy: 0.9163 - 613ms/epoch - 1ms/step\n",
      "Epoch 33/50\n",
      "469/469 - 1s - loss: 0.0136 - accuracy: 0.9146 - val_loss: 0.0130 - val_accuracy: 0.9164 - 613ms/epoch - 1ms/step\n",
      "Epoch 34/50\n",
      "469/469 - 1s - loss: 0.0136 - accuracy: 0.9146 - val_loss: 0.0130 - val_accuracy: 0.9162 - 610ms/epoch - 1ms/step\n",
      "Epoch 35/50\n",
      "469/469 - 1s - loss: 0.0136 - accuracy: 0.9148 - val_loss: 0.0130 - val_accuracy: 0.9164 - 610ms/epoch - 1ms/step\n",
      "Epoch 36/50\n",
      "469/469 - 1s - loss: 0.0135 - accuracy: 0.9149 - val_loss: 0.0130 - val_accuracy: 0.9164 - 613ms/epoch - 1ms/step\n",
      "Epoch 37/50\n",
      "469/469 - 1s - loss: 0.0135 - accuracy: 0.9149 - val_loss: 0.0130 - val_accuracy: 0.9165 - 612ms/epoch - 1ms/step\n",
      "Epoch 38/50\n",
      "469/469 - 1s - loss: 0.0135 - accuracy: 0.9150 - val_loss: 0.0130 - val_accuracy: 0.9167 - 611ms/epoch - 1ms/step\n",
      "Epoch 39/50\n",
      "469/469 - 1s - loss: 0.0135 - accuracy: 0.9151 - val_loss: 0.0130 - val_accuracy: 0.9166 - 611ms/epoch - 1ms/step\n",
      "Epoch 40/50\n",
      "469/469 - 1s - loss: 0.0135 - accuracy: 0.9151 - val_loss: 0.0129 - val_accuracy: 0.9172 - 610ms/epoch - 1ms/step\n",
      "Epoch 41/50\n",
      "469/469 - 1s - loss: 0.0135 - accuracy: 0.9152 - val_loss: 0.0129 - val_accuracy: 0.9171 - 614ms/epoch - 1ms/step\n",
      "Epoch 42/50\n",
      "469/469 - 1s - loss: 0.0135 - accuracy: 0.9153 - val_loss: 0.0129 - val_accuracy: 0.9173 - 608ms/epoch - 1ms/step\n",
      "Epoch 43/50\n",
      "469/469 - 1s - loss: 0.0134 - accuracy: 0.9152 - val_loss: 0.0129 - val_accuracy: 0.9171 - 611ms/epoch - 1ms/step\n",
      "Epoch 44/50\n",
      "469/469 - 1s - loss: 0.0134 - accuracy: 0.9153 - val_loss: 0.0129 - val_accuracy: 0.9173 - 610ms/epoch - 1ms/step\n",
      "Epoch 45/50\n",
      "469/469 - 1s - loss: 0.0134 - accuracy: 0.9155 - val_loss: 0.0129 - val_accuracy: 0.9173 - 610ms/epoch - 1ms/step\n",
      "Epoch 46/50\n",
      "469/469 - 1s - loss: 0.0134 - accuracy: 0.9154 - val_loss: 0.0129 - val_accuracy: 0.9172 - 621ms/epoch - 1ms/step\n",
      "Epoch 47/50\n",
      "469/469 - 1s - loss: 0.0134 - accuracy: 0.9156 - val_loss: 0.0129 - val_accuracy: 0.9173 - 608ms/epoch - 1ms/step\n",
      "Epoch 48/50\n",
      "469/469 - 1s - loss: 0.0134 - accuracy: 0.9157 - val_loss: 0.0129 - val_accuracy: 0.9175 - 609ms/epoch - 1ms/step\n",
      "Epoch 49/50\n",
      "469/469 - 1s - loss: 0.0134 - accuracy: 0.9158 - val_loss: 0.0128 - val_accuracy: 0.9174 - 611ms/epoch - 1ms/step\n",
      "Epoch 50/50\n",
      "469/469 - 1s - loss: 0.0133 - accuracy: 0.9158 - val_loss: 0.0128 - val_accuracy: 0.9182 - 608ms/epoch - 1ms/step\n",
      "정확률= 91.82000160217285\n"
     ]
    }
   ],
   "source": [
    "mlp.fit(x_train, y_train,batch_size=128, epochs=50, validation_data=(x_test, y_test), verbose=2)\n",
    "res = mlp.evaluate(x_test, y_test, verbose=0)\n",
    "print('정확률=', res[1]*100)"
   ],
   "metadata": {
    "collapsed": false,
    "ExecuteTime": {
     "start_time": "2024-07-01T15:13:28.268094Z",
     "end_time": "2024-07-01T15:13:59.277289Z"
    }
   }
  },
  {
   "cell_type": "code",
   "execution_count": 35,
   "outputs": [
    {
     "name": "stdout",
     "output_type": "stream",
     "text": [
      "Epoch 1/50\n",
      "469/469 - 1s - loss: 0.0146 - accuracy: 0.9043 - val_loss: 0.0108 - val_accuracy: 0.9288 - 1s/epoch - 2ms/step\n",
      "Epoch 2/50\n",
      "469/469 - 1s - loss: 0.0088 - accuracy: 0.9436 - val_loss: 0.0074 - val_accuracy: 0.9521 - 635ms/epoch - 1ms/step\n",
      "Epoch 3/50\n",
      "469/469 - 1s - loss: 0.0065 - accuracy: 0.9593 - val_loss: 0.0062 - val_accuracy: 0.9602 - 641ms/epoch - 1ms/step\n",
      "Epoch 4/50\n",
      "469/469 - 1s - loss: 0.0051 - accuracy: 0.9683 - val_loss: 0.0052 - val_accuracy: 0.9662 - 638ms/epoch - 1ms/step\n",
      "Epoch 5/50\n",
      "469/469 - 1s - loss: 0.0041 - accuracy: 0.9745 - val_loss: 0.0045 - val_accuracy: 0.9712 - 640ms/epoch - 1ms/step\n",
      "Epoch 6/50\n",
      "469/469 - 1s - loss: 0.0033 - accuracy: 0.9799 - val_loss: 0.0042 - val_accuracy: 0.9723 - 640ms/epoch - 1ms/step\n",
      "Epoch 7/50\n",
      "469/469 - 1s - loss: 0.0028 - accuracy: 0.9836 - val_loss: 0.0041 - val_accuracy: 0.9733 - 648ms/epoch - 1ms/step\n",
      "Epoch 8/50\n",
      "469/469 - 1s - loss: 0.0024 - accuracy: 0.9859 - val_loss: 0.0036 - val_accuracy: 0.9760 - 643ms/epoch - 1ms/step\n",
      "Epoch 9/50\n",
      "469/469 - 1s - loss: 0.0020 - accuracy: 0.9884 - val_loss: 0.0037 - val_accuracy: 0.9751 - 645ms/epoch - 1ms/step\n",
      "Epoch 10/50\n",
      "469/469 - 1s - loss: 0.0017 - accuracy: 0.9905 - val_loss: 0.0037 - val_accuracy: 0.9766 - 645ms/epoch - 1ms/step\n",
      "Epoch 11/50\n",
      "469/469 - 1s - loss: 0.0015 - accuracy: 0.9916 - val_loss: 0.0033 - val_accuracy: 0.9786 - 642ms/epoch - 1ms/step\n",
      "Epoch 12/50\n",
      "469/469 - 1s - loss: 0.0012 - accuracy: 0.9938 - val_loss: 0.0034 - val_accuracy: 0.9784 - 645ms/epoch - 1ms/step\n",
      "Epoch 13/50\n",
      "469/469 - 1s - loss: 0.0010 - accuracy: 0.9948 - val_loss: 0.0030 - val_accuracy: 0.9806 - 642ms/epoch - 1ms/step\n",
      "Epoch 14/50\n",
      "469/469 - 1s - loss: 9.5077e-04 - accuracy: 0.9948 - val_loss: 0.0032 - val_accuracy: 0.9796 - 647ms/epoch - 1ms/step\n",
      "Epoch 15/50\n",
      "469/469 - 1s - loss: 7.5466e-04 - accuracy: 0.9962 - val_loss: 0.0034 - val_accuracy: 0.9775 - 645ms/epoch - 1ms/step\n",
      "Epoch 16/50\n",
      "469/469 - 1s - loss: 6.8475e-04 - accuracy: 0.9965 - val_loss: 0.0030 - val_accuracy: 0.9810 - 641ms/epoch - 1ms/step\n",
      "Epoch 17/50\n",
      "469/469 - 1s - loss: 6.0437e-04 - accuracy: 0.9969 - val_loss: 0.0029 - val_accuracy: 0.9805 - 645ms/epoch - 1ms/step\n",
      "Epoch 18/50\n",
      "469/469 - 1s - loss: 4.9037e-04 - accuracy: 0.9976 - val_loss: 0.0032 - val_accuracy: 0.9798 - 643ms/epoch - 1ms/step\n",
      "Epoch 19/50\n",
      "469/469 - 1s - loss: 5.5747e-04 - accuracy: 0.9971 - val_loss: 0.0031 - val_accuracy: 0.9797 - 646ms/epoch - 1ms/step\n",
      "Epoch 20/50\n",
      "469/469 - 1s - loss: 5.4084e-04 - accuracy: 0.9972 - val_loss: 0.0032 - val_accuracy: 0.9794 - 646ms/epoch - 1ms/step\n",
      "Epoch 21/50\n",
      "469/469 - 1s - loss: 4.7716e-04 - accuracy: 0.9976 - val_loss: 0.0029 - val_accuracy: 0.9809 - 646ms/epoch - 1ms/step\n",
      "Epoch 22/50\n",
      "469/469 - 1s - loss: 3.7353e-04 - accuracy: 0.9981 - val_loss: 0.0034 - val_accuracy: 0.9769 - 646ms/epoch - 1ms/step\n",
      "Epoch 23/50\n",
      "469/469 - 1s - loss: 4.3534e-04 - accuracy: 0.9978 - val_loss: 0.0030 - val_accuracy: 0.9801 - 644ms/epoch - 1ms/step\n",
      "Epoch 24/50\n",
      "469/469 - 1s - loss: 3.8625e-04 - accuracy: 0.9980 - val_loss: 0.0031 - val_accuracy: 0.9803 - 643ms/epoch - 1ms/step\n",
      "Epoch 25/50\n",
      "469/469 - 1s - loss: 3.4243e-04 - accuracy: 0.9983 - val_loss: 0.0030 - val_accuracy: 0.9818 - 643ms/epoch - 1ms/step\n",
      "Epoch 26/50\n",
      "469/469 - 1s - loss: 3.6168e-04 - accuracy: 0.9982 - val_loss: 0.0031 - val_accuracy: 0.9806 - 643ms/epoch - 1ms/step\n",
      "Epoch 27/50\n",
      "469/469 - 1s - loss: 3.3512e-04 - accuracy: 0.9983 - val_loss: 0.0032 - val_accuracy: 0.9789 - 642ms/epoch - 1ms/step\n",
      "Epoch 28/50\n",
      "469/469 - 1s - loss: 3.1622e-04 - accuracy: 0.9983 - val_loss: 0.0030 - val_accuracy: 0.9813 - 644ms/epoch - 1ms/step\n",
      "Epoch 29/50\n",
      "469/469 - 1s - loss: 3.8714e-04 - accuracy: 0.9979 - val_loss: 0.0033 - val_accuracy: 0.9788 - 640ms/epoch - 1ms/step\n",
      "Epoch 30/50\n",
      "469/469 - 1s - loss: 3.0007e-04 - accuracy: 0.9984 - val_loss: 0.0028 - val_accuracy: 0.9820 - 643ms/epoch - 1ms/step\n",
      "Epoch 31/50\n",
      "469/469 - 1s - loss: 2.1559e-04 - accuracy: 0.9989 - val_loss: 0.0028 - val_accuracy: 0.9816 - 642ms/epoch - 1ms/step\n",
      "Epoch 32/50\n",
      "469/469 - 1s - loss: 1.8243e-04 - accuracy: 0.9990 - val_loss: 0.0031 - val_accuracy: 0.9812 - 641ms/epoch - 1ms/step\n",
      "Epoch 33/50\n",
      "469/469 - 1s - loss: 3.7493e-04 - accuracy: 0.9978 - val_loss: 0.0039 - val_accuracy: 0.9752 - 642ms/epoch - 1ms/step\n",
      "Epoch 34/50\n",
      "469/469 - 1s - loss: 3.5488e-04 - accuracy: 0.9980 - val_loss: 0.0029 - val_accuracy: 0.9809 - 642ms/epoch - 1ms/step\n",
      "Epoch 35/50\n",
      "469/469 - 1s - loss: 1.9249e-04 - accuracy: 0.9990 - val_loss: 0.0028 - val_accuracy: 0.9815 - 640ms/epoch - 1ms/step\n",
      "Epoch 36/50\n",
      "469/469 - 1s - loss: 2.3118e-04 - accuracy: 0.9988 - val_loss: 0.0031 - val_accuracy: 0.9807 - 643ms/epoch - 1ms/step\n",
      "Epoch 37/50\n",
      "469/469 - 1s - loss: 3.6024e-04 - accuracy: 0.9980 - val_loss: 0.0031 - val_accuracy: 0.9804 - 645ms/epoch - 1ms/step\n",
      "Epoch 38/50\n",
      "469/469 - 1s - loss: 2.5229e-04 - accuracy: 0.9987 - val_loss: 0.0031 - val_accuracy: 0.9806 - 642ms/epoch - 1ms/step\n",
      "Epoch 39/50\n",
      "469/469 - 1s - loss: 1.9937e-04 - accuracy: 0.9989 - val_loss: 0.0027 - val_accuracy: 0.9829 - 645ms/epoch - 1ms/step\n",
      "Epoch 40/50\n",
      "469/469 - 1s - loss: 2.8873e-04 - accuracy: 0.9984 - val_loss: 0.0031 - val_accuracy: 0.9814 - 641ms/epoch - 1ms/step\n",
      "Epoch 41/50\n",
      "469/469 - 1s - loss: 3.2018e-04 - accuracy: 0.9982 - val_loss: 0.0031 - val_accuracy: 0.9806 - 644ms/epoch - 1ms/step\n",
      "Epoch 42/50\n",
      "469/469 - 1s - loss: 2.4055e-04 - accuracy: 0.9987 - val_loss: 0.0029 - val_accuracy: 0.9825 - 644ms/epoch - 1ms/step\n",
      "Epoch 43/50\n",
      "469/469 - 1s - loss: 1.8957e-04 - accuracy: 0.9989 - val_loss: 0.0032 - val_accuracy: 0.9804 - 640ms/epoch - 1ms/step\n",
      "Epoch 44/50\n",
      "469/469 - 1s - loss: 2.0884e-04 - accuracy: 0.9989 - val_loss: 0.0029 - val_accuracy: 0.9824 - 640ms/epoch - 1ms/step\n",
      "Epoch 45/50\n",
      "469/469 - 1s - loss: 2.6905e-04 - accuracy: 0.9984 - val_loss: 0.0030 - val_accuracy: 0.9811 - 639ms/epoch - 1ms/step\n",
      "Epoch 46/50\n",
      "469/469 - 1s - loss: 2.4708e-04 - accuracy: 0.9987 - val_loss: 0.0029 - val_accuracy: 0.9817 - 641ms/epoch - 1ms/step\n",
      "Epoch 47/50\n",
      "469/469 - 1s - loss: 1.8421e-04 - accuracy: 0.9990 - val_loss: 0.0029 - val_accuracy: 0.9817 - 640ms/epoch - 1ms/step\n",
      "Epoch 48/50\n",
      "469/469 - 1s - loss: 1.8990e-04 - accuracy: 0.9990 - val_loss: 0.0029 - val_accuracy: 0.9819 - 642ms/epoch - 1ms/step\n",
      "Epoch 49/50\n",
      "469/469 - 1s - loss: 2.7883e-04 - accuracy: 0.9985 - val_loss: 0.0032 - val_accuracy: 0.9801 - 644ms/epoch - 1ms/step\n",
      "Epoch 50/50\n",
      "469/469 - 1s - loss: 2.5430e-04 - accuracy: 0.9987 - val_loss: 0.0029 - val_accuracy: 0.9817 - 645ms/epoch - 1ms/step\n",
      "정확률= 98.17000031471252\n"
     ]
    }
   ],
   "source": [
    "import numpy as np\n",
    "import tensorflow as tf\n",
    "import tensorflow.keras.datasets as ds\n",
    "from tensorflow.keras.models import Sequential\n",
    "from tensorflow.keras.layers import Dense\n",
    "from tensorflow.keras.optimizers import Adam\n",
    "\n",
    "(x_train, y_train), (x_test, y_test) = ds.mnist.load_data()\n",
    "x_train = x_train.reshape(60000, 784)\n",
    "x_test = x_test.reshape(10000, 784)\n",
    "x_train = x_train.astype(np.float32) / 255\n",
    "x_test = x_test.astype(np.float32) / 255\n",
    "y_train = tf.keras.utils.to_categorical(y_train, 10)\n",
    "y_test = tf.keras.utils.to_categorical(y_test, 10)\n",
    "mlp = Sequential()\n",
    "mlp.add(Dense(units=512, activation='tanh', input_shape=(784,)))\n",
    "mlp.add(Dense(units=10, activation='softmax'))\n",
    "mlp.compile(loss='MSE',optimizer=Adam(learning_rate=0.001),metrics=['accuracy'])\n",
    "mlp.fit(x_train, y_train,batch_size=128, epochs=50, validation_data=(x_test, y_test), verbose=2)\n",
    "res = mlp.evaluate(x_test, y_test, verbose=0)\n",
    "print('정확률=', res[1]*100)"
   ],
   "metadata": {
    "collapsed": false,
    "ExecuteTime": {
     "start_time": "2024-07-01T15:15:28.171472Z",
     "end_time": "2024-07-01T15:16:01.336478Z"
    }
   }
  },
  {
   "cell_type": "code",
   "execution_count": 36,
   "outputs": [],
   "source": [
    "# 성능 시각화\n",
    "# SGD와 Adam의 성능비교를 시각화를 통해 알아보자\n",
    "import numpy as np\n",
    "import tensorflow as tf\n",
    "import tensorflow.keras.datasets as ds\n",
    "from tensorflow.keras.models import Sequential\n",
    "from tensorflow.keras.layers import Dense\n",
    "from tensorflow.keras.optimizers import SGD, Adam"
   ],
   "metadata": {
    "collapsed": false,
    "ExecuteTime": {
     "start_time": "2024-07-01T15:24:49.698357Z",
     "end_time": "2024-07-01T15:24:49.715785Z"
    }
   }
  },
  {
   "cell_type": "code",
   "execution_count": 37,
   "outputs": [],
   "source": [
    "(x_train, y_train), (x_test, y_test) = ds.mnist.load_data()\n",
    "x_train = x_train.reshape(60000, 784)\n",
    "x_test = x_test.reshape(10000, 784)\n",
    "x_train = x_train.astype(np.float32) / 255\n",
    "x_test = x_test.astype(np.float32) / 255\n",
    "y_train = tf.keras.utils.to_categorical(y_train, 10)\n",
    "y_test = tf.keras.utils.to_categorical(y_test, 10)"
   ],
   "metadata": {
    "collapsed": false,
    "ExecuteTime": {
     "start_time": "2024-07-01T15:25:08.043137Z",
     "end_time": "2024-07-01T15:25:08.267996Z"
    }
   }
  },
  {
   "cell_type": "code",
   "execution_count": 40,
   "outputs": [],
   "source": [
    "#SGD 성능\n",
    "mlp_sgd=Sequential()\n",
    "mlp_sgd.add(Dense(units=512,activation='tanh',input_shape=(784,)))\n",
    "mlp_sgd.add(Dense(units=10, activation='softmax'))"
   ],
   "metadata": {
    "collapsed": false,
    "ExecuteTime": {
     "start_time": "2024-07-01T15:27:49.337600Z",
     "end_time": "2024-07-01T15:27:49.370872Z"
    }
   }
  },
  {
   "cell_type": "code",
   "execution_count": 45,
   "outputs": [
    {
     "name": "stdout",
     "output_type": "stream",
     "text": [
      "Epoch 1/50\n",
      "469/469 - 1s - loss: 0.0186 - accuracy: 0.8895 - val_loss: 0.0175 - val_accuracy: 0.8967 - 931ms/epoch - 2ms/step\n",
      "Epoch 2/50\n",
      "469/469 - 1s - loss: 0.0185 - accuracy: 0.8898 - val_loss: 0.0174 - val_accuracy: 0.8970 - 601ms/epoch - 1ms/step\n",
      "Epoch 3/50\n",
      "469/469 - 1s - loss: 0.0183 - accuracy: 0.8904 - val_loss: 0.0173 - val_accuracy: 0.8974 - 596ms/epoch - 1ms/step\n",
      "Epoch 4/50\n",
      "469/469 - 1s - loss: 0.0182 - accuracy: 0.8908 - val_loss: 0.0172 - val_accuracy: 0.8977 - 597ms/epoch - 1ms/step\n",
      "Epoch 5/50\n",
      "469/469 - 1s - loss: 0.0181 - accuracy: 0.8912 - val_loss: 0.0172 - val_accuracy: 0.8982 - 602ms/epoch - 1ms/step\n",
      "Epoch 6/50\n",
      "469/469 - 1s - loss: 0.0180 - accuracy: 0.8919 - val_loss: 0.0171 - val_accuracy: 0.8986 - 609ms/epoch - 1ms/step\n",
      "Epoch 7/50\n",
      "469/469 - 1s - loss: 0.0179 - accuracy: 0.8925 - val_loss: 0.0170 - val_accuracy: 0.8985 - 604ms/epoch - 1ms/step\n",
      "Epoch 8/50\n",
      "469/469 - 1s - loss: 0.0179 - accuracy: 0.8926 - val_loss: 0.0169 - val_accuracy: 0.8994 - 605ms/epoch - 1ms/step\n",
      "Epoch 9/50\n",
      "469/469 - 1s - loss: 0.0178 - accuracy: 0.8933 - val_loss: 0.0168 - val_accuracy: 0.8996 - 606ms/epoch - 1ms/step\n",
      "Epoch 10/50\n",
      "469/469 - 1s - loss: 0.0177 - accuracy: 0.8938 - val_loss: 0.0167 - val_accuracy: 0.8996 - 600ms/epoch - 1ms/step\n",
      "Epoch 11/50\n",
      "469/469 - 1s - loss: 0.0176 - accuracy: 0.8941 - val_loss: 0.0166 - val_accuracy: 0.9000 - 599ms/epoch - 1ms/step\n",
      "Epoch 12/50\n",
      "469/469 - 1s - loss: 0.0175 - accuracy: 0.8944 - val_loss: 0.0166 - val_accuracy: 0.9004 - 601ms/epoch - 1ms/step\n",
      "Epoch 13/50\n",
      "469/469 - 1s - loss: 0.0174 - accuracy: 0.8950 - val_loss: 0.0165 - val_accuracy: 0.9006 - 615ms/epoch - 1ms/step\n",
      "Epoch 14/50\n",
      "469/469 - 1s - loss: 0.0174 - accuracy: 0.8952 - val_loss: 0.0164 - val_accuracy: 0.9009 - 615ms/epoch - 1ms/step\n",
      "Epoch 15/50\n",
      "469/469 - 1s - loss: 0.0173 - accuracy: 0.8956 - val_loss: 0.0163 - val_accuracy: 0.9015 - 606ms/epoch - 1ms/step\n",
      "Epoch 16/50\n",
      "469/469 - 1s - loss: 0.0172 - accuracy: 0.8963 - val_loss: 0.0163 - val_accuracy: 0.9021 - 607ms/epoch - 1ms/step\n",
      "Epoch 17/50\n",
      "469/469 - 1s - loss: 0.0171 - accuracy: 0.8964 - val_loss: 0.0162 - val_accuracy: 0.9026 - 607ms/epoch - 1ms/step\n",
      "Epoch 18/50\n",
      "469/469 - 1s - loss: 0.0171 - accuracy: 0.8968 - val_loss: 0.0161 - val_accuracy: 0.9029 - 615ms/epoch - 1ms/step\n",
      "Epoch 19/50\n",
      "469/469 - 1s - loss: 0.0170 - accuracy: 0.8971 - val_loss: 0.0161 - val_accuracy: 0.9027 - 608ms/epoch - 1ms/step\n",
      "Epoch 20/50\n",
      "469/469 - 1s - loss: 0.0169 - accuracy: 0.8973 - val_loss: 0.0160 - val_accuracy: 0.9029 - 606ms/epoch - 1ms/step\n",
      "Epoch 21/50\n",
      "469/469 - 1s - loss: 0.0169 - accuracy: 0.8975 - val_loss: 0.0160 - val_accuracy: 0.9028 - 607ms/epoch - 1ms/step\n",
      "Epoch 22/50\n",
      "469/469 - 1s - loss: 0.0168 - accuracy: 0.8977 - val_loss: 0.0159 - val_accuracy: 0.9031 - 603ms/epoch - 1ms/step\n",
      "Epoch 23/50\n",
      "469/469 - 1s - loss: 0.0167 - accuracy: 0.8982 - val_loss: 0.0158 - val_accuracy: 0.9032 - 607ms/epoch - 1ms/step\n",
      "Epoch 24/50\n",
      "469/469 - 1s - loss: 0.0167 - accuracy: 0.8984 - val_loss: 0.0158 - val_accuracy: 0.9032 - 610ms/epoch - 1ms/step\n",
      "Epoch 25/50\n",
      "469/469 - 1s - loss: 0.0166 - accuracy: 0.8985 - val_loss: 0.0157 - val_accuracy: 0.9031 - 609ms/epoch - 1ms/step\n",
      "Epoch 26/50\n",
      "469/469 - 1s - loss: 0.0166 - accuracy: 0.8987 - val_loss: 0.0157 - val_accuracy: 0.9033 - 616ms/epoch - 1ms/step\n",
      "Epoch 27/50\n",
      "469/469 - 1s - loss: 0.0165 - accuracy: 0.8992 - val_loss: 0.0156 - val_accuracy: 0.9033 - 616ms/epoch - 1ms/step\n",
      "Epoch 28/50\n",
      "469/469 - 1s - loss: 0.0165 - accuracy: 0.8993 - val_loss: 0.0156 - val_accuracy: 0.9036 - 611ms/epoch - 1ms/step\n",
      "Epoch 29/50\n",
      "469/469 - 1s - loss: 0.0164 - accuracy: 0.8996 - val_loss: 0.0155 - val_accuracy: 0.9039 - 612ms/epoch - 1ms/step\n",
      "Epoch 30/50\n",
      "469/469 - 1s - loss: 0.0163 - accuracy: 0.8998 - val_loss: 0.0155 - val_accuracy: 0.9041 - 611ms/epoch - 1ms/step\n",
      "Epoch 31/50\n",
      "469/469 - 1s - loss: 0.0163 - accuracy: 0.9003 - val_loss: 0.0154 - val_accuracy: 0.9045 - 606ms/epoch - 1ms/step\n",
      "Epoch 32/50\n",
      "469/469 - 1s - loss: 0.0162 - accuracy: 0.9006 - val_loss: 0.0154 - val_accuracy: 0.9051 - 613ms/epoch - 1ms/step\n",
      "Epoch 33/50\n",
      "469/469 - 1s - loss: 0.0162 - accuracy: 0.9008 - val_loss: 0.0153 - val_accuracy: 0.9051 - 609ms/epoch - 1ms/step\n",
      "Epoch 34/50\n",
      "469/469 - 1s - loss: 0.0161 - accuracy: 0.9009 - val_loss: 0.0153 - val_accuracy: 0.9054 - 608ms/epoch - 1ms/step\n",
      "Epoch 35/50\n",
      "469/469 - 1s - loss: 0.0161 - accuracy: 0.9012 - val_loss: 0.0152 - val_accuracy: 0.9053 - 607ms/epoch - 1ms/step\n",
      "Epoch 36/50\n",
      "469/469 - 1s - loss: 0.0160 - accuracy: 0.9016 - val_loss: 0.0152 - val_accuracy: 0.9057 - 608ms/epoch - 1ms/step\n",
      "Epoch 37/50\n",
      "469/469 - 1s - loss: 0.0160 - accuracy: 0.9015 - val_loss: 0.0151 - val_accuracy: 0.9057 - 606ms/epoch - 1ms/step\n",
      "Epoch 38/50\n",
      "469/469 - 1s - loss: 0.0160 - accuracy: 0.9018 - val_loss: 0.0151 - val_accuracy: 0.9060 - 607ms/epoch - 1ms/step\n",
      "Epoch 39/50\n",
      "469/469 - 1s - loss: 0.0159 - accuracy: 0.9020 - val_loss: 0.0151 - val_accuracy: 0.9061 - 608ms/epoch - 1ms/step\n",
      "Epoch 40/50\n",
      "469/469 - 1s - loss: 0.0159 - accuracy: 0.9021 - val_loss: 0.0150 - val_accuracy: 0.9062 - 605ms/epoch - 1ms/step\n",
      "Epoch 41/50\n",
      "469/469 - 1s - loss: 0.0158 - accuracy: 0.9023 - val_loss: 0.0150 - val_accuracy: 0.9066 - 609ms/epoch - 1ms/step\n",
      "Epoch 42/50\n",
      "469/469 - 1s - loss: 0.0158 - accuracy: 0.9028 - val_loss: 0.0149 - val_accuracy: 0.9068 - 607ms/epoch - 1ms/step\n",
      "Epoch 43/50\n",
      "469/469 - 1s - loss: 0.0157 - accuracy: 0.9029 - val_loss: 0.0149 - val_accuracy: 0.9069 - 609ms/epoch - 1ms/step\n",
      "Epoch 44/50\n",
      "469/469 - 1s - loss: 0.0157 - accuracy: 0.9031 - val_loss: 0.0149 - val_accuracy: 0.9071 - 603ms/epoch - 1ms/step\n",
      "Epoch 45/50\n",
      "469/469 - 1s - loss: 0.0157 - accuracy: 0.9034 - val_loss: 0.0148 - val_accuracy: 0.9075 - 602ms/epoch - 1ms/step\n",
      "Epoch 46/50\n",
      "469/469 - 1s - loss: 0.0156 - accuracy: 0.9036 - val_loss: 0.0148 - val_accuracy: 0.9076 - 619ms/epoch - 1ms/step\n",
      "Epoch 47/50\n",
      "469/469 - 1s - loss: 0.0156 - accuracy: 0.9038 - val_loss: 0.0148 - val_accuracy: 0.9080 - 607ms/epoch - 1ms/step\n",
      "Epoch 48/50\n",
      "469/469 - 1s - loss: 0.0155 - accuracy: 0.9040 - val_loss: 0.0147 - val_accuracy: 0.9082 - 607ms/epoch - 1ms/step\n",
      "Epoch 49/50\n",
      "469/469 - 1s - loss: 0.0155 - accuracy: 0.9042 - val_loss: 0.0147 - val_accuracy: 0.9083 - 607ms/epoch - 1ms/step\n",
      "Epoch 50/50\n",
      "469/469 - 1s - loss: 0.0155 - accuracy: 0.9043 - val_loss: 0.0147 - val_accuracy: 0.9085 - 609ms/epoch - 1ms/step\n",
      "SGD 정확률= 90.85000157356262\n"
     ]
    }
   ],
   "source": [
    "mlp_sgd.compile(loss='MSE',optimizer=SGD(learning_rate=0.01),metrics=['accuracy'])\n",
    "hist_sgd=mlp_sgd.fit(x_train,y_train,batch_size=128,epochs=50,validation_data=(x_test, y_test),verbose=2)"
   ],
   "metadata": {
    "collapsed": false,
    "ExecuteTime": {
     "start_time": "2024-07-01T15:32:10.296832Z",
     "end_time": "2024-07-01T15:32:41.356679Z"
    }
   }
  },
  {
   "cell_type": "code",
   "execution_count": 46,
   "outputs": [
    {
     "name": "stdout",
     "output_type": "stream",
     "text": [
      "SGD 정확률= 90.85000157356262\n"
     ]
    }
   ],
   "source": [
    "print('SGD 정확률=', mlp_sgd.evaluate(x_test, y_test, verbose=0)[1]*100)"
   ],
   "metadata": {
    "collapsed": false,
    "ExecuteTime": {
     "start_time": "2024-07-01T15:32:57.230789Z",
     "end_time": "2024-07-01T15:32:57.471926Z"
    }
   }
  },
  {
   "cell_type": "code",
   "execution_count": 47,
   "outputs": [],
   "source": [
    "#Adam 성능\n",
    "mlp_adam=Sequential()\n",
    "mlp_adam.add(Dense(units=512,activation='tanh',input_shape=(784,)))\n",
    "mlp_adam.add(Dense(units=10, activation='softmax'))"
   ],
   "metadata": {
    "collapsed": false,
    "ExecuteTime": {
     "start_time": "2024-07-01T15:33:45.775727Z",
     "end_time": "2024-07-01T15:33:45.807326Z"
    }
   }
  },
  {
   "cell_type": "code",
   "execution_count": 48,
   "outputs": [
    {
     "name": "stdout",
     "output_type": "stream",
     "text": [
      "Epoch 1/50\n",
      "469/469 - 1s - loss: 0.0148 - accuracy: 0.9028 - val_loss: 0.0097 - val_accuracy: 0.9358 - 1s/epoch - 2ms/step\n",
      "Epoch 2/50\n",
      "469/469 - 1s - loss: 0.0088 - accuracy: 0.9434 - val_loss: 0.0080 - val_accuracy: 0.9485 - 628ms/epoch - 1ms/step\n",
      "Epoch 3/50\n",
      "469/469 - 1s - loss: 0.0065 - accuracy: 0.9587 - val_loss: 0.0062 - val_accuracy: 0.9600 - 639ms/epoch - 1ms/step\n",
      "Epoch 4/50\n",
      "469/469 - 1s - loss: 0.0050 - accuracy: 0.9690 - val_loss: 0.0053 - val_accuracy: 0.9663 - 624ms/epoch - 1ms/step\n",
      "Epoch 5/50\n",
      "469/469 - 1s - loss: 0.0040 - accuracy: 0.9754 - val_loss: 0.0046 - val_accuracy: 0.9717 - 631ms/epoch - 1ms/step\n",
      "Epoch 6/50\n",
      "469/469 - 1s - loss: 0.0034 - accuracy: 0.9799 - val_loss: 0.0038 - val_accuracy: 0.9748 - 638ms/epoch - 1ms/step\n",
      "Epoch 7/50\n",
      "469/469 - 1s - loss: 0.0028 - accuracy: 0.9834 - val_loss: 0.0038 - val_accuracy: 0.9756 - 662ms/epoch - 1ms/step\n",
      "Epoch 8/50\n",
      "469/469 - 1s - loss: 0.0024 - accuracy: 0.9862 - val_loss: 0.0035 - val_accuracy: 0.9773 - 631ms/epoch - 1ms/step\n",
      "Epoch 9/50\n",
      "469/469 - 1s - loss: 0.0020 - accuracy: 0.9885 - val_loss: 0.0032 - val_accuracy: 0.9792 - 635ms/epoch - 1ms/step\n",
      "Epoch 10/50\n",
      "469/469 - 1s - loss: 0.0016 - accuracy: 0.9909 - val_loss: 0.0034 - val_accuracy: 0.9769 - 662ms/epoch - 1ms/step\n",
      "Epoch 11/50\n",
      "469/469 - 1s - loss: 0.0014 - accuracy: 0.9924 - val_loss: 0.0033 - val_accuracy: 0.9771 - 652ms/epoch - 1ms/step\n",
      "Epoch 12/50\n",
      "469/469 - 1s - loss: 0.0012 - accuracy: 0.9934 - val_loss: 0.0034 - val_accuracy: 0.9785 - 641ms/epoch - 1ms/step\n",
      "Epoch 13/50\n",
      "469/469 - 1s - loss: 0.0011 - accuracy: 0.9944 - val_loss: 0.0032 - val_accuracy: 0.9794 - 648ms/epoch - 1ms/step\n",
      "Epoch 14/50\n",
      "469/469 - 1s - loss: 8.8048e-04 - accuracy: 0.9955 - val_loss: 0.0033 - val_accuracy: 0.9792 - 645ms/epoch - 1ms/step\n",
      "Epoch 15/50\n",
      "469/469 - 1s - loss: 7.9663e-04 - accuracy: 0.9959 - val_loss: 0.0030 - val_accuracy: 0.9793 - 666ms/epoch - 1ms/step\n",
      "Epoch 16/50\n",
      "469/469 - 1s - loss: 6.9167e-04 - accuracy: 0.9965 - val_loss: 0.0029 - val_accuracy: 0.9822 - 634ms/epoch - 1ms/step\n",
      "Epoch 17/50\n",
      "469/469 - 1s - loss: 6.1557e-04 - accuracy: 0.9969 - val_loss: 0.0029 - val_accuracy: 0.9811 - 635ms/epoch - 1ms/step\n",
      "Epoch 18/50\n",
      "469/469 - 1s - loss: 5.8522e-04 - accuracy: 0.9970 - val_loss: 0.0032 - val_accuracy: 0.9787 - 747ms/epoch - 2ms/step\n",
      "Epoch 19/50\n",
      "469/469 - 1s - loss: 4.6912e-04 - accuracy: 0.9977 - val_loss: 0.0029 - val_accuracy: 0.9808 - 669ms/epoch - 1ms/step\n",
      "Epoch 20/50\n",
      "469/469 - 1s - loss: 4.3029e-04 - accuracy: 0.9980 - val_loss: 0.0028 - val_accuracy: 0.9818 - 632ms/epoch - 1ms/step\n",
      "Epoch 21/50\n",
      "469/469 - 1s - loss: 4.0540e-04 - accuracy: 0.9979 - val_loss: 0.0035 - val_accuracy: 0.9765 - 648ms/epoch - 1ms/step\n",
      "Epoch 22/50\n",
      "469/469 - 1s - loss: 4.4101e-04 - accuracy: 0.9977 - val_loss: 0.0028 - val_accuracy: 0.9825 - 665ms/epoch - 1ms/step\n",
      "Epoch 23/50\n",
      "469/469 - 1s - loss: 4.0800e-04 - accuracy: 0.9979 - val_loss: 0.0031 - val_accuracy: 0.9807 - 634ms/epoch - 1ms/step\n",
      "Epoch 24/50\n",
      "469/469 - 1s - loss: 3.5923e-04 - accuracy: 0.9982 - val_loss: 0.0027 - val_accuracy: 0.9824 - 633ms/epoch - 1ms/step\n",
      "Epoch 25/50\n",
      "469/469 - 1s - loss: 3.9836e-04 - accuracy: 0.9979 - val_loss: 0.0027 - val_accuracy: 0.9819 - 648ms/epoch - 1ms/step\n",
      "Epoch 26/50\n",
      "469/469 - 1s - loss: 2.5949e-04 - accuracy: 0.9988 - val_loss: 0.0029 - val_accuracy: 0.9818 - 666ms/epoch - 1ms/step\n",
      "Epoch 27/50\n",
      "469/469 - 1s - loss: 2.7840e-04 - accuracy: 0.9986 - val_loss: 0.0030 - val_accuracy: 0.9804 - 667ms/epoch - 1ms/step\n",
      "Epoch 28/50\n",
      "469/469 - 1s - loss: 3.5904e-04 - accuracy: 0.9981 - val_loss: 0.0037 - val_accuracy: 0.9761 - 665ms/epoch - 1ms/step\n",
      "Epoch 29/50\n",
      "469/469 - 1s - loss: 3.3541e-04 - accuracy: 0.9983 - val_loss: 0.0029 - val_accuracy: 0.9814 - 641ms/epoch - 1ms/step\n",
      "Epoch 30/50\n",
      "469/469 - 1s - loss: 2.7144e-04 - accuracy: 0.9986 - val_loss: 0.0027 - val_accuracy: 0.9825 - 634ms/epoch - 1ms/step\n",
      "Epoch 31/50\n",
      "469/469 - 1s - loss: 2.0163e-04 - accuracy: 0.9990 - val_loss: 0.0033 - val_accuracy: 0.9790 - 635ms/epoch - 1ms/step\n",
      "Epoch 32/50\n",
      "469/469 - 1s - loss: 2.8124e-04 - accuracy: 0.9986 - val_loss: 0.0030 - val_accuracy: 0.9813 - 667ms/epoch - 1ms/step\n",
      "Epoch 33/50\n",
      "469/469 - 1s - loss: 3.5675e-04 - accuracy: 0.9981 - val_loss: 0.0031 - val_accuracy: 0.9792 - 634ms/epoch - 1ms/step\n",
      "Epoch 34/50\n",
      "469/469 - 1s - loss: 2.8307e-04 - accuracy: 0.9985 - val_loss: 0.0031 - val_accuracy: 0.9808 - 648ms/epoch - 1ms/step\n",
      "Epoch 35/50\n",
      "469/469 - 1s - loss: 2.2390e-04 - accuracy: 0.9989 - val_loss: 0.0027 - val_accuracy: 0.9829 - 649ms/epoch - 1ms/step\n",
      "Epoch 36/50\n",
      "469/469 - 1s - loss: 1.7839e-04 - accuracy: 0.9991 - val_loss: 0.0033 - val_accuracy: 0.9794 - 640ms/epoch - 1ms/step\n",
      "Epoch 37/50\n",
      "469/469 - 1s - loss: 4.2273e-04 - accuracy: 0.9976 - val_loss: 0.0035 - val_accuracy: 0.9774 - 669ms/epoch - 1ms/step\n",
      "Epoch 38/50\n",
      "469/469 - 1s - loss: 2.2906e-04 - accuracy: 0.9988 - val_loss: 0.0028 - val_accuracy: 0.9827 - 635ms/epoch - 1ms/step\n",
      "Epoch 39/50\n",
      "469/469 - 1s - loss: 2.2322e-04 - accuracy: 0.9988 - val_loss: 0.0029 - val_accuracy: 0.9813 - 633ms/epoch - 1ms/step\n",
      "Epoch 40/50\n",
      "469/469 - 1s - loss: 2.8687e-04 - accuracy: 0.9984 - val_loss: 0.0029 - val_accuracy: 0.9816 - 634ms/epoch - 1ms/step\n",
      "Epoch 41/50\n",
      "469/469 - 1s - loss: 2.5041e-04 - accuracy: 0.9987 - val_loss: 0.0028 - val_accuracy: 0.9829 - 642ms/epoch - 1ms/step\n",
      "Epoch 42/50\n",
      "469/469 - 1s - loss: 1.6644e-04 - accuracy: 0.9991 - val_loss: 0.0027 - val_accuracy: 0.9837 - 645ms/epoch - 1ms/step\n",
      "Epoch 43/50\n",
      "469/469 - 1s - loss: 2.6570e-04 - accuracy: 0.9985 - val_loss: 0.0028 - val_accuracy: 0.9824 - 643ms/epoch - 1ms/step\n",
      "Epoch 44/50\n",
      "469/469 - 1s - loss: 2.5679e-04 - accuracy: 0.9987 - val_loss: 0.0029 - val_accuracy: 0.9821 - 677ms/epoch - 1ms/step\n",
      "Epoch 45/50\n",
      "469/469 - 1s - loss: 1.6629e-04 - accuracy: 0.9992 - val_loss: 0.0033 - val_accuracy: 0.9799 - 645ms/epoch - 1ms/step\n",
      "Epoch 46/50\n",
      "469/469 - 1s - loss: 2.9571e-04 - accuracy: 0.9982 - val_loss: 0.0035 - val_accuracy: 0.9785 - 666ms/epoch - 1ms/step\n",
      "Epoch 47/50\n",
      "469/469 - 1s - loss: 2.9865e-04 - accuracy: 0.9982 - val_loss: 0.0029 - val_accuracy: 0.9816 - 670ms/epoch - 1ms/step\n",
      "Epoch 48/50\n",
      "469/469 - 1s - loss: 1.9603e-04 - accuracy: 0.9989 - val_loss: 0.0030 - val_accuracy: 0.9812 - 677ms/epoch - 1ms/step\n",
      "Epoch 49/50\n",
      "469/469 - 1s - loss: 1.6542e-04 - accuracy: 0.9991 - val_loss: 0.0027 - val_accuracy: 0.9831 - 640ms/epoch - 1ms/step\n",
      "Epoch 50/50\n",
      "469/469 - 1s - loss: 2.3983e-04 - accuracy: 0.9987 - val_loss: 0.0032 - val_accuracy: 0.9791 - 665ms/epoch - 1ms/step\n"
     ]
    }
   ],
   "source": [
    "mlp_adam.compile(loss='MSE',optimizer=Adam(learning_rate=0.001),metrics=['accuracy'])\n",
    "hist_adam=mlp_adam.fit(x_train,y_train,batch_size=128,epochs=50,validation_data=(x_test, y_test),verbose=2)"
   ],
   "metadata": {
    "collapsed": false,
    "ExecuteTime": {
     "start_time": "2024-07-01T15:34:45.435074Z",
     "end_time": "2024-07-01T15:35:18.401718Z"
    }
   }
  },
  {
   "cell_type": "code",
   "execution_count": 50,
   "outputs": [
    {
     "name": "stdout",
     "output_type": "stream",
     "text": [
      "Adam 정확률= 97.9099988937378\n"
     ]
    }
   ],
   "source": [
    "print('Adam 정확률=', mlp_adam.evaluate(x_test, y_test,verbose=0)[1]*100)"
   ],
   "metadata": {
    "collapsed": false,
    "ExecuteTime": {
     "start_time": "2024-07-01T15:36:02.810559Z",
     "end_time": "2024-07-01T15:36:03.055792Z"
    }
   }
  },
  {
   "cell_type": "code",
   "execution_count": 52,
   "outputs": [
    {
     "data": {
      "text/plain": "<Figure size 640x480 with 1 Axes>",
      "image/png": "[encoded data removed]"
     },
     "metadata": {},
     "output_type": "display_data"
    }
   ],
   "source": [
    "#그래프로 나타내기\n",
    "import matplotlib.pyplot as plt\n",
    "\n",
    "plt.plot(hist_sgd.history['accuracy'],'r--')\n",
    "plt.plot(hist_sgd.history['val_accuracy'],'r')\n",
    "plt.plot(hist_adam.history['accuracy'],'b--')\n",
    "plt.plot(hist_adam.history['val_accuracy'],'b')\n",
    "plt.title('Comparison of SGD and Adam optimizers')\n",
    "plt.ylim(0.7, 1.0)\n",
    "plt.xlabel('epochs')\n",
    "plt.ylabel('accuracy')\n",
    "plt.legend(['train_sgd', 'val_sgd', 'train_adam', 'val_adam'])\n",
    "plt.grid\n",
    "plt.show()"
   ],
   "metadata": {
    "collapsed": false,
    "ExecuteTime": {
     "start_time": "2024-07-01T15:42:09.443645Z",
     "end_time": "2024-07-01T15:42:09.557695Z"
    }
   }
  },
  {
   "cell_type": "code",
   "execution_count": null,
   "outputs": [],
   "source": [],
   "metadata": {
    "collapsed": false
   }
  }
 ],
 "metadata": {
  "kernelspec": {
   "display_name": "Python 3",
   "language": "python",
   "name": "python3"
  },
  "language_info": {
   "codemirror_mode": {
    "name": "ipython",
    "version": 2
   },
   "file_extension": ".py",
   "mimetype": "text/x-python",
   "name": "python",
   "nbconvert_exporter": "python",
   "pygments_lexer": "ipython2",
   "version": "2.7.6"
  }
 },
 "nbformat": 4,
 "nbformat_minor": 0
}
