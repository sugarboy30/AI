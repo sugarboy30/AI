{
 "cells": [
  {
   "cell_type": "code",
   "execution_count": 1,
   "metadata": {
    "collapsed": true,
    "ExecuteTime": {
     "start_time": "2024-07-04T11:42:16.866005Z",
     "end_time": "2024-07-04T11:42:21.496538Z"
    }
   },
   "outputs": [],
   "source": [
    "import numpy as np\n",
    "import tensorflow as tf\n",
    "import tensorflow.keras.datasets as ds"
   ]
  },
  {
   "cell_type": "code",
   "execution_count": 2,
   "outputs": [],
   "source": [
    "from tensorflow.keras.models import Sequential\n",
    "from tensorflow.keras.layers import Conv2D,MaxPooling2D,Flatten,Dropout,Dense\n",
    "from tensorflow.keras.optimizers import Adam"
   ],
   "metadata": {
    "collapsed": false,
    "ExecuteTime": {
     "start_time": "2024-07-04T11:44:45.072941Z",
     "end_time": "2024-07-04T11:44:45.076976Z"
    }
   }
  },
  {
   "cell_type": "code",
   "execution_count": 3,
   "outputs": [],
   "source": [
    "(x_train,y_train),(x_test,y_test)=ds.mnist.load_data()\n",
    "x_train=x_train.reshape(60000,28,28,1)\n",
    "x_test=x_test.reshape(10000,28,28,1)\n",
    "x_train=x_train.astype(np.float32)/255.0\n",
    "x_test=x_test.astype(np.float32)/255.0\n",
    "y_train=tf.keras.utils.to_categorical(y_train,10)\n",
    "y_test=tf.keras.utils.to_categorical(y_test,10)"
   ],
   "metadata": {
    "collapsed": false,
    "ExecuteTime": {
     "start_time": "2024-07-04T12:11:37.606586Z",
     "end_time": "2024-07-04T12:11:37.840819Z"
    }
   }
  },
  {
   "cell_type": "code",
   "execution_count": 5,
   "outputs": [],
   "source": [
    "cnn=Sequential()\n",
    "cnn.add(Conv2D(6,(5,5),padding='same',activation='relu',input_shape=(28,28,1)))\n",
    "cnn.add(MaxPooling2D(pool_size=(2,2),strides=2))\n",
    "cnn.add(Conv2D(16,(5,5),padding='valid',activation='relu'))\n",
    "cnn.add(MaxPooling2D(pool_size=(2,2),strides=2))\n",
    "cnn.add(Conv2D(120,(5,5),padding='valid',activation='relu'))\n",
    "cnn.add(Flatten())\n",
    "cnn.add(Dense(units=84,activation='relu'))\n",
    "cnn.add(Dense(units=10,activation='softmax'))"
   ],
   "metadata": {
    "collapsed": false,
    "ExecuteTime": {
     "start_time": "2024-07-04T12:24:57.597862Z",
     "end_time": "2024-07-04T12:24:57.736260Z"
    }
   }
  },
  {
   "cell_type": "code",
   "execution_count": 6,
   "outputs": [
    {
     "name": "stdout",
     "output_type": "stream",
     "text": [
      "Epoch 1/30\n",
      "469/469 - 22s - loss: 0.3034 - accuracy: 0.9093 - val_loss: 0.1026 - val_accuracy: 0.9674 - 22s/epoch - 47ms/step\n",
      "Epoch 2/30\n",
      "469/469 - 22s - loss: 0.0825 - accuracy: 0.9749 - val_loss: 0.0509 - val_accuracy: 0.9851 - 22s/epoch - 47ms/step\n",
      "Epoch 3/30\n",
      "469/469 - 21s - loss: 0.0578 - accuracy: 0.9822 - val_loss: 0.0620 - val_accuracy: 0.9806 - 21s/epoch - 46ms/step\n",
      "Epoch 4/30\n",
      "469/469 - 21s - loss: 0.0456 - accuracy: 0.9854 - val_loss: 0.0419 - val_accuracy: 0.9875 - 21s/epoch - 46ms/step\n",
      "Epoch 5/30\n",
      "469/469 - 22s - loss: 0.0370 - accuracy: 0.9884 - val_loss: 0.0451 - val_accuracy: 0.9856 - 22s/epoch - 47ms/step\n",
      "Epoch 6/30\n",
      "469/469 - 21s - loss: 0.0327 - accuracy: 0.9897 - val_loss: 0.0360 - val_accuracy: 0.9888 - 21s/epoch - 44ms/step\n",
      "Epoch 7/30\n",
      "469/469 - 21s - loss: 0.0272 - accuracy: 0.9912 - val_loss: 0.0364 - val_accuracy: 0.9883 - 21s/epoch - 44ms/step\n",
      "Epoch 8/30\n",
      "469/469 - 22s - loss: 0.0236 - accuracy: 0.9920 - val_loss: 0.0307 - val_accuracy: 0.9907 - 22s/epoch - 47ms/step\n",
      "Epoch 9/30\n",
      "469/469 - 23s - loss: 0.0213 - accuracy: 0.9929 - val_loss: 0.0382 - val_accuracy: 0.9877 - 23s/epoch - 49ms/step\n",
      "Epoch 10/30\n",
      "469/469 - 22s - loss: 0.0182 - accuracy: 0.9936 - val_loss: 0.0387 - val_accuracy: 0.9886 - 22s/epoch - 47ms/step\n",
      "Epoch 11/30\n",
      "469/469 - 22s - loss: 0.0155 - accuracy: 0.9951 - val_loss: 0.0387 - val_accuracy: 0.9882 - 22s/epoch - 46ms/step\n",
      "Epoch 12/30\n",
      "469/469 - 22s - loss: 0.0144 - accuracy: 0.9958 - val_loss: 0.0333 - val_accuracy: 0.9906 - 22s/epoch - 46ms/step\n",
      "Epoch 13/30\n",
      "469/469 - 22s - loss: 0.0127 - accuracy: 0.9957 - val_loss: 0.0372 - val_accuracy: 0.9898 - 22s/epoch - 47ms/step\n",
      "Epoch 14/30\n",
      "469/469 - 21s - loss: 0.0115 - accuracy: 0.9962 - val_loss: 0.0433 - val_accuracy: 0.9891 - 21s/epoch - 44ms/step\n",
      "Epoch 15/30\n",
      "469/469 - 20s - loss: 0.0106 - accuracy: 0.9963 - val_loss: 0.0339 - val_accuracy: 0.9913 - 20s/epoch - 43ms/step\n",
      "Epoch 16/30\n",
      "469/469 - 21s - loss: 0.0099 - accuracy: 0.9968 - val_loss: 0.0319 - val_accuracy: 0.9911 - 21s/epoch - 44ms/step\n",
      "Epoch 17/30\n",
      "469/469 - 22s - loss: 0.0083 - accuracy: 0.9969 - val_loss: 0.0375 - val_accuracy: 0.9901 - 22s/epoch - 47ms/step\n",
      "Epoch 18/30\n",
      "469/469 - 23s - loss: 0.0101 - accuracy: 0.9966 - val_loss: 0.0316 - val_accuracy: 0.9913 - 23s/epoch - 49ms/step\n",
      "Epoch 19/30\n",
      "469/469 - 23s - loss: 0.0066 - accuracy: 0.9979 - val_loss: 0.0426 - val_accuracy: 0.9903 - 23s/epoch - 48ms/step\n",
      "Epoch 20/30\n",
      "469/469 - 21s - loss: 0.0065 - accuracy: 0.9978 - val_loss: 0.0438 - val_accuracy: 0.9894 - 21s/epoch - 44ms/step\n",
      "Epoch 21/30\n",
      "469/469 - 23s - loss: 0.0062 - accuracy: 0.9980 - val_loss: 0.0451 - val_accuracy: 0.9887 - 23s/epoch - 49ms/step\n",
      "Epoch 22/30\n",
      "469/469 - 21s - loss: 0.0069 - accuracy: 0.9979 - val_loss: 0.0513 - val_accuracy: 0.9867 - 21s/epoch - 44ms/step\n",
      "Epoch 23/30\n",
      "469/469 - 21s - loss: 0.0051 - accuracy: 0.9981 - val_loss: 0.0575 - val_accuracy: 0.9861 - 21s/epoch - 45ms/step\n",
      "Epoch 24/30\n",
      "469/469 - 21s - loss: 0.0084 - accuracy: 0.9972 - val_loss: 0.0431 - val_accuracy: 0.9897 - 21s/epoch - 46ms/step\n",
      "Epoch 25/30\n",
      "469/469 - 21s - loss: 0.0058 - accuracy: 0.9981 - val_loss: 0.0421 - val_accuracy: 0.9914 - 21s/epoch - 45ms/step\n",
      "Epoch 26/30\n",
      "469/469 - 21s - loss: 0.0041 - accuracy: 0.9987 - val_loss: 0.0440 - val_accuracy: 0.9913 - 21s/epoch - 44ms/step\n",
      "Epoch 27/30\n",
      "469/469 - 21s - loss: 0.0041 - accuracy: 0.9987 - val_loss: 0.0484 - val_accuracy: 0.9897 - 21s/epoch - 44ms/step\n",
      "Epoch 28/30\n",
      "469/469 - 21s - loss: 0.0050 - accuracy: 0.9982 - val_loss: 0.0469 - val_accuracy: 0.9904 - 21s/epoch - 44ms/step\n",
      "Epoch 29/30\n",
      "469/469 - 21s - loss: 0.0058 - accuracy: 0.9980 - val_loss: 0.0649 - val_accuracy: 0.9882 - 21s/epoch - 44ms/step\n",
      "Epoch 30/30\n",
      "469/469 - 22s - loss: 0.0045 - accuracy: 0.9985 - val_loss: 0.0425 - val_accuracy: 0.9907 - 22s/epoch - 46ms/step\n"
     ]
    },
    {
     "data": {
      "text/plain": "<keras.callbacks.History at 0x161baf67f40>"
     },
     "execution_count": 6,
     "metadata": {},
     "output_type": "execute_result"
    }
   ],
   "source": [
    "cnn.compile(loss='categorical_crossentropy',optimizer=Adam\n",
    "(learning_rate=0.001),metrics=['accuracy'])\n",
    "cnn.fit(x_train,y_train,batch_size=128,epochs=30,validation_data=(x_test,y_test),verbose=2)"
   ],
   "metadata": {
    "collapsed": false,
    "ExecuteTime": {
     "start_time": "2024-07-04T12:36:53.300031Z",
     "end_time": "2024-07-04T12:47:38.235297Z"
    }
   }
  },
  {
   "cell_type": "code",
   "execution_count": 10,
   "outputs": [
    {
     "name": "stdout",
     "output_type": "stream",
     "text": [
      "정확률= 99.07000064849854\n"
     ]
    }
   ],
   "source": [
    "res=cnn.evaluate(x_test,y_test,verbose=0)\n",
    "print('정확률=', res[1]*100)"
   ],
   "metadata": {
    "collapsed": false,
    "ExecuteTime": {
     "start_time": "2024-07-04T13:32:10.584654Z",
     "end_time": "2024-07-04T13:32:10.947755Z"
    }
   }
  },
  {
   "cell_type": "code",
   "execution_count": 13,
   "outputs": [],
   "source": [
    "import ssl\n",
    "ssl._create_default_https_context = ssl._create_unverified_context"
   ],
   "metadata": {
    "collapsed": false,
    "ExecuteTime": {
     "start_time": "2024-07-04T13:33:53.096190Z",
     "end_time": "2024-07-04T13:33:53.113222Z"
    }
   }
  },
  {
   "cell_type": "code",
   "execution_count": 8,
   "outputs": [],
   "source": [
    "import numpy as np\n",
    "import tensorflow as tf\n",
    "import tensorflow.keras.datasets as ds"
   ],
   "metadata": {
    "collapsed": false,
    "ExecuteTime": {
     "start_time": "2024-07-04T13:31:45.033022Z",
     "end_time": "2024-07-04T13:31:45.042025Z"
    }
   }
  },
  {
   "cell_type": "code",
   "execution_count": 9,
   "outputs": [],
   "source": [
    "from tensorflow.keras.models import Sequential\n",
    "from tensorflow.keras.layers import Conv2D,MaxPooling2D,Flatten,Dropout,Dense\n",
    "from tensorflow.keras.optimizers import Adam"
   ],
   "metadata": {
    "collapsed": false,
    "ExecuteTime": {
     "start_time": "2024-07-04T13:31:52.822372Z",
     "end_time": "2024-07-04T13:31:52.832460Z"
    }
   }
  },
  {
   "cell_type": "code",
   "execution_count": 14,
   "outputs": [
    {
     "name": "stdout",
     "output_type": "stream",
     "text": [
      "Downloading data from https://www.cs.toronto.edu/~kriz/cifar-10-python.tar.gz\n",
      "170498071/170498071 [==============================] - 167s 1us/step\n"
     ]
    }
   ],
   "source": [
    "(x_train,y_train),(x_test,y_test)=ds.cifar10.load_data()\n",
    "x_train=x_train.astype(np.float32)/255.0\n",
    "x_test=x_test.astype(np.float32)/255.0\n",
    "y_train=tf.keras.utils.to_categorical(y_train,10)\n",
    "y_test=tf.keras.utils.to_categorical(y_test,10)"
   ],
   "metadata": {
    "collapsed": false,
    "ExecuteTime": {
     "start_time": "2024-07-04T13:35:15.069735Z",
     "end_time": "2024-07-04T13:38:04.785562Z"
    }
   }
  },
  {
   "cell_type": "code",
   "execution_count": 27,
   "outputs": [],
   "source": [
    "cnn=Sequential()\n",
    "cnn.add(Conv2D(32,(3,3),activation='relu',input_shape=(32,32,3)))\n",
    "cnn.add(Conv2D(32,(3,3),activation='relu'))\n",
    "cnn.add(MaxPooling2D(pool_size=(2,2)))\n",
    "cnn.add(Dropout(0.25))\n",
    "cnn.add(Conv2D(64,(3,3),activation='relu'))\n",
    "cnn.add(Conv2D(64,(3,3),activation='relu'))\n",
    "cnn.add(MaxPooling2D(pool_size=(2,2)))\n",
    "cnn.add(Dropout(0.25))\n",
    "cnn.add(Flatten())\n",
    "cnn.add(Dense(units=512,activation='relu'))\n",
    "cnn.add(Dropout(0.5))\n",
    "cnn.add(Dense(units=10,activation='softmax'))"
   ],
   "metadata": {
    "collapsed": false,
    "ExecuteTime": {
     "start_time": "2024-07-04T15:00:31.954052Z",
     "end_time": "2024-07-04T15:00:32.008068Z"
    }
   }
  },
  {
   "cell_type": "code",
   "execution_count": 28,
   "outputs": [
    {
     "name": "stdout",
     "output_type": "stream",
     "text": [
      "Epoch 1/100\n",
      "391/391 - 16s - loss: 1.6929 - accuracy: 0.3755 - val_loss: 1.3220 - val_accuracy: 0.5189 - 16s/epoch - 41ms/step\n",
      "Epoch 2/100\n",
      "391/391 - 15s - loss: 1.2298 - accuracy: 0.5592 - val_loss: 1.0185 - val_accuracy: 0.6441 - 15s/epoch - 38ms/step\n",
      "Epoch 3/100\n",
      "391/391 - 14s - loss: 1.0694 - accuracy: 0.6202 - val_loss: 0.9262 - val_accuracy: 0.6730 - 14s/epoch - 37ms/step\n",
      "Epoch 4/100\n",
      "391/391 - 15s - loss: 0.9625 - accuracy: 0.6589 - val_loss: 0.8476 - val_accuracy: 0.7015 - 15s/epoch - 38ms/step\n",
      "Epoch 5/100\n",
      "391/391 - 15s - loss: 0.8885 - accuracy: 0.6871 - val_loss: 0.8188 - val_accuracy: 0.7102 - 15s/epoch - 39ms/step\n",
      "Epoch 6/100\n",
      "391/391 - 15s - loss: 0.8294 - accuracy: 0.7107 - val_loss: 0.7635 - val_accuracy: 0.7337 - 15s/epoch - 38ms/step\n",
      "Epoch 7/100\n",
      "391/391 - 15s - loss: 0.7759 - accuracy: 0.7274 - val_loss: 0.7326 - val_accuracy: 0.7491 - 15s/epoch - 39ms/step\n",
      "Epoch 8/100\n",
      "391/391 - 15s - loss: 0.7414 - accuracy: 0.7392 - val_loss: 0.7027 - val_accuracy: 0.7551 - 15s/epoch - 39ms/step\n",
      "Epoch 9/100\n",
      "391/391 - 15s - loss: 0.7012 - accuracy: 0.7508 - val_loss: 0.6951 - val_accuracy: 0.7612 - 15s/epoch - 37ms/step\n",
      "Epoch 10/100\n",
      "391/391 - 15s - loss: 0.6730 - accuracy: 0.7637 - val_loss: 0.6794 - val_accuracy: 0.7608 - 15s/epoch - 38ms/step\n",
      "Epoch 11/100\n",
      "391/391 - 15s - loss: 0.6470 - accuracy: 0.7702 - val_loss: 0.6585 - val_accuracy: 0.7718 - 15s/epoch - 38ms/step\n",
      "Epoch 12/100\n",
      "391/391 - 15s - loss: 0.6225 - accuracy: 0.7816 - val_loss: 0.6559 - val_accuracy: 0.7722 - 15s/epoch - 38ms/step\n",
      "Epoch 13/100\n",
      "391/391 - 15s - loss: 0.5954 - accuracy: 0.7897 - val_loss: 0.6583 - val_accuracy: 0.7737 - 15s/epoch - 38ms/step\n",
      "Epoch 14/100\n",
      "391/391 - 15s - loss: 0.5783 - accuracy: 0.7961 - val_loss: 0.6512 - val_accuracy: 0.7751 - 15s/epoch - 38ms/step\n",
      "Epoch 15/100\n",
      "391/391 - 15s - loss: 0.5632 - accuracy: 0.8003 - val_loss: 0.6325 - val_accuracy: 0.7838 - 15s/epoch - 38ms/step\n",
      "Epoch 16/100\n",
      "391/391 - 15s - loss: 0.5507 - accuracy: 0.8055 - val_loss: 0.6576 - val_accuracy: 0.7779 - 15s/epoch - 38ms/step\n",
      "Epoch 17/100\n",
      "391/391 - 15s - loss: 0.5245 - accuracy: 0.8144 - val_loss: 0.6215 - val_accuracy: 0.7928 - 15s/epoch - 38ms/step\n",
      "Epoch 18/100\n",
      "391/391 - 16s - loss: 0.5117 - accuracy: 0.8184 - val_loss: 0.6192 - val_accuracy: 0.7903 - 16s/epoch - 41ms/step\n",
      "Epoch 19/100\n",
      "391/391 - 15s - loss: 0.4963 - accuracy: 0.8244 - val_loss: 0.6141 - val_accuracy: 0.7907 - 15s/epoch - 39ms/step\n",
      "Epoch 20/100\n",
      "391/391 - 15s - loss: 0.4902 - accuracy: 0.8255 - val_loss: 0.6180 - val_accuracy: 0.7905 - 15s/epoch - 37ms/step\n",
      "Epoch 21/100\n",
      "391/391 - 15s - loss: 0.4746 - accuracy: 0.8314 - val_loss: 0.6131 - val_accuracy: 0.7944 - 15s/epoch - 38ms/step\n",
      "Epoch 22/100\n",
      "391/391 - 15s - loss: 0.4670 - accuracy: 0.8340 - val_loss: 0.6209 - val_accuracy: 0.7934 - 15s/epoch - 37ms/step\n",
      "Epoch 23/100\n",
      "391/391 - 15s - loss: 0.4551 - accuracy: 0.8360 - val_loss: 0.6190 - val_accuracy: 0.7955 - 15s/epoch - 38ms/step\n",
      "Epoch 24/100\n",
      "391/391 - 15s - loss: 0.4502 - accuracy: 0.8420 - val_loss: 0.6137 - val_accuracy: 0.7928 - 15s/epoch - 37ms/step\n",
      "Epoch 25/100\n",
      "391/391 - 15s - loss: 0.4386 - accuracy: 0.8428 - val_loss: 0.6284 - val_accuracy: 0.7903 - 15s/epoch - 38ms/step\n",
      "Epoch 26/100\n",
      "391/391 - 15s - loss: 0.4300 - accuracy: 0.8476 - val_loss: 0.6198 - val_accuracy: 0.7951 - 15s/epoch - 38ms/step\n",
      "Epoch 27/100\n",
      "391/391 - 15s - loss: 0.4232 - accuracy: 0.8483 - val_loss: 0.6101 - val_accuracy: 0.7941 - 15s/epoch - 37ms/step\n",
      "Epoch 28/100\n",
      "391/391 - 15s - loss: 0.4153 - accuracy: 0.8521 - val_loss: 0.6499 - val_accuracy: 0.7891 - 15s/epoch - 38ms/step\n",
      "Epoch 29/100\n",
      "391/391 - 15s - loss: 0.4048 - accuracy: 0.8569 - val_loss: 0.6177 - val_accuracy: 0.7960 - 15s/epoch - 38ms/step\n",
      "Epoch 30/100\n",
      "391/391 - 15s - loss: 0.4033 - accuracy: 0.8565 - val_loss: 0.6173 - val_accuracy: 0.7971 - 15s/epoch - 38ms/step\n",
      "Epoch 31/100\n",
      "391/391 - 15s - loss: 0.3951 - accuracy: 0.8582 - val_loss: 0.6269 - val_accuracy: 0.7992 - 15s/epoch - 37ms/step\n",
      "Epoch 32/100\n",
      "391/391 - 15s - loss: 0.3928 - accuracy: 0.8606 - val_loss: 0.6320 - val_accuracy: 0.7963 - 15s/epoch - 38ms/step\n",
      "Epoch 33/100\n",
      "391/391 - 15s - loss: 0.3895 - accuracy: 0.8607 - val_loss: 0.6531 - val_accuracy: 0.7903 - 15s/epoch - 39ms/step\n",
      "Epoch 34/100\n",
      "391/391 - 15s - loss: 0.3795 - accuracy: 0.8631 - val_loss: 0.6530 - val_accuracy: 0.7981 - 15s/epoch - 38ms/step\n",
      "Epoch 35/100\n",
      "391/391 - 15s - loss: 0.3735 - accuracy: 0.8670 - val_loss: 0.6371 - val_accuracy: 0.7913 - 15s/epoch - 38ms/step\n",
      "Epoch 36/100\n",
      "391/391 - 14s - loss: 0.3676 - accuracy: 0.8697 - val_loss: 0.6248 - val_accuracy: 0.8019 - 14s/epoch - 37ms/step\n",
      "Epoch 37/100\n",
      "391/391 - 15s - loss: 0.3644 - accuracy: 0.8688 - val_loss: 0.6221 - val_accuracy: 0.8010 - 15s/epoch - 37ms/step\n",
      "Epoch 38/100\n",
      "391/391 - 15s - loss: 0.3588 - accuracy: 0.8724 - val_loss: 0.6579 - val_accuracy: 0.7946 - 15s/epoch - 37ms/step\n",
      "Epoch 39/100\n",
      "391/391 - 15s - loss: 0.3534 - accuracy: 0.8736 - val_loss: 0.6242 - val_accuracy: 0.8015 - 15s/epoch - 38ms/step\n",
      "Epoch 40/100\n",
      "391/391 - 15s - loss: 0.3516 - accuracy: 0.8741 - val_loss: 0.6499 - val_accuracy: 0.7933 - 15s/epoch - 37ms/step\n",
      "Epoch 41/100\n",
      "391/391 - 15s - loss: 0.3424 - accuracy: 0.8774 - val_loss: 0.6496 - val_accuracy: 0.7968 - 15s/epoch - 37ms/step\n",
      "Epoch 42/100\n",
      "391/391 - 15s - loss: 0.3418 - accuracy: 0.8780 - val_loss: 0.6337 - val_accuracy: 0.8013 - 15s/epoch - 38ms/step\n",
      "Epoch 43/100\n",
      "391/391 - 15s - loss: 0.3414 - accuracy: 0.8789 - val_loss: 0.6392 - val_accuracy: 0.7991 - 15s/epoch - 37ms/step\n",
      "Epoch 44/100\n",
      "391/391 - 14s - loss: 0.3406 - accuracy: 0.8783 - val_loss: 0.6552 - val_accuracy: 0.7948 - 14s/epoch - 37ms/step\n",
      "Epoch 45/100\n",
      "391/391 - 15s - loss: 0.3273 - accuracy: 0.8833 - val_loss: 0.6335 - val_accuracy: 0.8029 - 15s/epoch - 38ms/step\n",
      "Epoch 46/100\n",
      "391/391 - 15s - loss: 0.3335 - accuracy: 0.8811 - val_loss: 0.6384 - val_accuracy: 0.8031 - 15s/epoch - 37ms/step\n",
      "Epoch 47/100\n",
      "391/391 - 15s - loss: 0.3272 - accuracy: 0.8821 - val_loss: 0.6309 - val_accuracy: 0.8019 - 15s/epoch - 38ms/step\n",
      "Epoch 48/100\n",
      "391/391 - 15s - loss: 0.3224 - accuracy: 0.8855 - val_loss: 0.6621 - val_accuracy: 0.7967 - 15s/epoch - 37ms/step\n",
      "Epoch 49/100\n",
      "391/391 - 15s - loss: 0.3209 - accuracy: 0.8854 - val_loss: 0.6498 - val_accuracy: 0.7972 - 15s/epoch - 38ms/step\n",
      "Epoch 50/100\n",
      "391/391 - 15s - loss: 0.3224 - accuracy: 0.8852 - val_loss: 0.6514 - val_accuracy: 0.7966 - 15s/epoch - 37ms/step\n",
      "Epoch 51/100\n",
      "391/391 - 15s - loss: 0.3176 - accuracy: 0.8875 - val_loss: 0.6627 - val_accuracy: 0.7984 - 15s/epoch - 38ms/step\n",
      "Epoch 52/100\n",
      "391/391 - 15s - loss: 0.3147 - accuracy: 0.8901 - val_loss: 0.6411 - val_accuracy: 0.7991 - 15s/epoch - 38ms/step\n",
      "Epoch 53/100\n",
      "391/391 - 15s - loss: 0.3150 - accuracy: 0.8887 - val_loss: 0.6302 - val_accuracy: 0.8012 - 15s/epoch - 38ms/step\n",
      "Epoch 54/100\n",
      "391/391 - 15s - loss: 0.3080 - accuracy: 0.8918 - val_loss: 0.6364 - val_accuracy: 0.8001 - 15s/epoch - 38ms/step\n",
      "Epoch 55/100\n",
      "391/391 - 15s - loss: 0.3074 - accuracy: 0.8905 - val_loss: 0.6615 - val_accuracy: 0.7970 - 15s/epoch - 38ms/step\n",
      "Epoch 56/100\n",
      "391/391 - 15s - loss: 0.3022 - accuracy: 0.8930 - val_loss: 0.6643 - val_accuracy: 0.7981 - 15s/epoch - 37ms/step\n",
      "Epoch 57/100\n",
      "391/391 - 15s - loss: 0.2990 - accuracy: 0.8932 - val_loss: 0.6468 - val_accuracy: 0.8039 - 15s/epoch - 37ms/step\n",
      "Epoch 58/100\n",
      "391/391 - 15s - loss: 0.3051 - accuracy: 0.8919 - val_loss: 0.6606 - val_accuracy: 0.7991 - 15s/epoch - 37ms/step\n",
      "Epoch 59/100\n",
      "391/391 - 15s - loss: 0.2900 - accuracy: 0.8977 - val_loss: 0.6566 - val_accuracy: 0.8036 - 15s/epoch - 37ms/step\n",
      "Epoch 60/100\n",
      "391/391 - 15s - loss: 0.2971 - accuracy: 0.8957 - val_loss: 0.6489 - val_accuracy: 0.7996 - 15s/epoch - 38ms/step\n",
      "Epoch 61/100\n",
      "391/391 - 15s - loss: 0.2894 - accuracy: 0.8970 - val_loss: 0.6464 - val_accuracy: 0.8004 - 15s/epoch - 38ms/step\n",
      "Epoch 62/100\n",
      "391/391 - 15s - loss: 0.2920 - accuracy: 0.8961 - val_loss: 0.6669 - val_accuracy: 0.8020 - 15s/epoch - 38ms/step\n",
      "Epoch 63/100\n",
      "391/391 - 15s - loss: 0.2886 - accuracy: 0.8985 - val_loss: 0.6513 - val_accuracy: 0.8057 - 15s/epoch - 37ms/step\n",
      "Epoch 64/100\n",
      "391/391 - 15s - loss: 0.2888 - accuracy: 0.8979 - val_loss: 0.6735 - val_accuracy: 0.7900 - 15s/epoch - 37ms/step\n",
      "Epoch 65/100\n",
      "391/391 - 15s - loss: 0.2879 - accuracy: 0.8988 - val_loss: 0.6725 - val_accuracy: 0.7939 - 15s/epoch - 38ms/step\n",
      "Epoch 66/100\n",
      "391/391 - 15s - loss: 0.2856 - accuracy: 0.8985 - val_loss: 0.6612 - val_accuracy: 0.8009 - 15s/epoch - 38ms/step\n",
      "Epoch 67/100\n",
      "391/391 - 15s - loss: 0.2831 - accuracy: 0.8988 - val_loss: 0.6680 - val_accuracy: 0.8015 - 15s/epoch - 38ms/step\n",
      "Epoch 68/100\n",
      "391/391 - 15s - loss: 0.2810 - accuracy: 0.8997 - val_loss: 0.6666 - val_accuracy: 0.8034 - 15s/epoch - 37ms/step\n",
      "Epoch 69/100\n",
      "391/391 - 15s - loss: 0.2759 - accuracy: 0.9023 - val_loss: 0.7348 - val_accuracy: 0.7917 - 15s/epoch - 38ms/step\n",
      "Epoch 70/100\n",
      "391/391 - 15s - loss: 0.2819 - accuracy: 0.9005 - val_loss: 0.6703 - val_accuracy: 0.7973 - 15s/epoch - 39ms/step\n",
      "Epoch 71/100\n",
      "391/391 - 15s - loss: 0.2769 - accuracy: 0.9018 - val_loss: 0.6642 - val_accuracy: 0.8031 - 15s/epoch - 38ms/step\n",
      "Epoch 72/100\n",
      "391/391 - 15s - loss: 0.2748 - accuracy: 0.9043 - val_loss: 0.6737 - val_accuracy: 0.7997 - 15s/epoch - 37ms/step\n",
      "Epoch 73/100\n",
      "391/391 - 15s - loss: 0.2707 - accuracy: 0.9045 - val_loss: 0.6818 - val_accuracy: 0.8020 - 15s/epoch - 39ms/step\n",
      "Epoch 74/100\n",
      "391/391 - 16s - loss: 0.2709 - accuracy: 0.9039 - val_loss: 0.6852 - val_accuracy: 0.7987 - 16s/epoch - 40ms/step\n",
      "Epoch 75/100\n",
      "391/391 - 15s - loss: 0.2741 - accuracy: 0.9039 - val_loss: 0.6702 - val_accuracy: 0.8011 - 15s/epoch - 38ms/step\n",
      "Epoch 76/100\n",
      "391/391 - 15s - loss: 0.2671 - accuracy: 0.9057 - val_loss: 0.6687 - val_accuracy: 0.8000 - 15s/epoch - 38ms/step\n",
      "Epoch 77/100\n",
      "391/391 - 15s - loss: 0.2688 - accuracy: 0.9050 - val_loss: 0.6784 - val_accuracy: 0.8049 - 15s/epoch - 38ms/step\n",
      "Epoch 78/100\n",
      "391/391 - 15s - loss: 0.2598 - accuracy: 0.9093 - val_loss: 0.6867 - val_accuracy: 0.8002 - 15s/epoch - 39ms/step\n",
      "Epoch 79/100\n",
      "391/391 - 15s - loss: 0.2707 - accuracy: 0.9037 - val_loss: 0.6499 - val_accuracy: 0.8030 - 15s/epoch - 38ms/step\n",
      "Epoch 80/100\n",
      "391/391 - 15s - loss: 0.2743 - accuracy: 0.9042 - val_loss: 0.6918 - val_accuracy: 0.8015 - 15s/epoch - 38ms/step\n",
      "Epoch 81/100\n",
      "391/391 - 15s - loss: 0.2633 - accuracy: 0.9084 - val_loss: 0.6549 - val_accuracy: 0.8055 - 15s/epoch - 38ms/step\n",
      "Epoch 82/100\n",
      "391/391 - 15s - loss: 0.2638 - accuracy: 0.9077 - val_loss: 0.6678 - val_accuracy: 0.8033 - 15s/epoch - 39ms/step\n",
      "Epoch 83/100\n",
      "391/391 - 15s - loss: 0.2705 - accuracy: 0.9054 - val_loss: 0.6659 - val_accuracy: 0.8036 - 15s/epoch - 38ms/step\n",
      "Epoch 84/100\n",
      "391/391 - 15s - loss: 0.2586 - accuracy: 0.9097 - val_loss: 0.6933 - val_accuracy: 0.8017 - 15s/epoch - 38ms/step\n",
      "Epoch 85/100\n",
      "391/391 - 15s - loss: 0.2617 - accuracy: 0.9081 - val_loss: 0.6700 - val_accuracy: 0.7996 - 15s/epoch - 38ms/step\n",
      "Epoch 86/100\n",
      "391/391 - 15s - loss: 0.2500 - accuracy: 0.9124 - val_loss: 0.6856 - val_accuracy: 0.8003 - 15s/epoch - 39ms/step\n",
      "Epoch 87/100\n",
      "391/391 - 16s - loss: 0.2592 - accuracy: 0.9071 - val_loss: 0.6945 - val_accuracy: 0.8012 - 16s/epoch - 41ms/step\n",
      "Epoch 88/100\n",
      "391/391 - 15s - loss: 0.2572 - accuracy: 0.9094 - val_loss: 0.6758 - val_accuracy: 0.8027 - 15s/epoch - 39ms/step\n",
      "Epoch 89/100\n",
      "391/391 - 15s - loss: 0.2529 - accuracy: 0.9133 - val_loss: 0.6758 - val_accuracy: 0.8038 - 15s/epoch - 39ms/step\n",
      "Epoch 90/100\n",
      "391/391 - 15s - loss: 0.2498 - accuracy: 0.9115 - val_loss: 0.6479 - val_accuracy: 0.8016 - 15s/epoch - 38ms/step\n",
      "Epoch 91/100\n",
      "391/391 - 16s - loss: 0.2535 - accuracy: 0.9117 - val_loss: 0.6938 - val_accuracy: 0.7962 - 16s/epoch - 41ms/step\n",
      "Epoch 92/100\n",
      "391/391 - 15s - loss: 0.2504 - accuracy: 0.9110 - val_loss: 0.6863 - val_accuracy: 0.8060 - 15s/epoch - 38ms/step\n",
      "Epoch 93/100\n",
      "391/391 - 15s - loss: 0.2487 - accuracy: 0.9133 - val_loss: 0.6870 - val_accuracy: 0.8025 - 15s/epoch - 39ms/step\n",
      "Epoch 94/100\n",
      "391/391 - 15s - loss: 0.2401 - accuracy: 0.9156 - val_loss: 0.6958 - val_accuracy: 0.8071 - 15s/epoch - 39ms/step\n",
      "Epoch 95/100\n",
      "391/391 - 15s - loss: 0.2512 - accuracy: 0.9125 - val_loss: 0.6797 - val_accuracy: 0.7992 - 15s/epoch - 39ms/step\n",
      "Epoch 96/100\n",
      "391/391 - 15s - loss: 0.2457 - accuracy: 0.9147 - val_loss: 0.6947 - val_accuracy: 0.8051 - 15s/epoch - 39ms/step\n",
      "Epoch 97/100\n",
      "391/391 - 15s - loss: 0.2460 - accuracy: 0.9137 - val_loss: 0.7029 - val_accuracy: 0.8045 - 15s/epoch - 38ms/step\n",
      "Epoch 98/100\n",
      "391/391 - 16s - loss: 0.2504 - accuracy: 0.9136 - val_loss: 0.6817 - val_accuracy: 0.8027 - 16s/epoch - 40ms/step\n",
      "Epoch 99/100\n",
      "391/391 - 15s - loss: 0.2429 - accuracy: 0.9148 - val_loss: 0.6995 - val_accuracy: 0.8032 - 15s/epoch - 38ms/step\n",
      "Epoch 100/100\n",
      "391/391 - 15s - loss: 0.2412 - accuracy: 0.9158 - val_loss: 0.6930 - val_accuracy: 0.8047 - 15s/epoch - 39ms/step\n"
     ]
    }
   ],
   "source": [
    "cnn.compile(loss='categorical_crossentropy',optimizer=Adam\n",
    "(learning_rate=0.001),metrics=['accuracy'])\n",
    "hist=cnn.fit(x_train,y_train,batch_size=128,epochs=100,validation_data=(x_test,y_test),verbose=2)"
   ],
   "metadata": {
    "collapsed": false,
    "ExecuteTime": {
     "start_time": "2024-07-04T15:00:35.613969Z",
     "end_time": "2024-07-04T15:25:27.243045Z"
    }
   }
  },
  {
   "cell_type": "code",
   "execution_count": 29,
   "outputs": [
    {
     "name": "stdout",
     "output_type": "stream",
     "text": [
      "정확률= 80.47000169754028\n"
     ]
    }
   ],
   "source": [
    "res=cnn.evaluate(x_test,y_test,verbose=0)\n",
    "print('정확률=', res[1]*100)"
   ],
   "metadata": {
    "collapsed": false,
    "ExecuteTime": {
     "start_time": "2024-07-04T15:25:27.246410Z",
     "end_time": "2024-07-04T15:25:28.277216Z"
    }
   }
  },
  {
   "cell_type": "code",
   "execution_count": 24,
   "outputs": [],
   "source": [
    "import matplotlib.pyplot as plt"
   ],
   "metadata": {
    "collapsed": false,
    "ExecuteTime": {
     "start_time": "2024-07-04T14:55:51.631884Z",
     "end_time": "2024-07-04T14:55:51.676421Z"
    }
   }
  },
  {
   "cell_type": "code",
   "execution_count": 30,
   "outputs": [
    {
     "data": {
      "text/plain": "<Figure size 640x480 with 1 Axes>",
      "image/png": "[encoded data removed]"
     },
     "metadata": {},
     "output_type": "display_data"
    },
    {
     "data": {
      "text/plain": "<Figure size 640x480 with 1 Axes>",
      "image/png": "[encoded data removed]"
     },
     "metadata": {},
     "output_type": "display_data"
    }
   ],
   "source": [
    "plt.plot(hist.history['accuracy'])\n",
    "plt.plot(hist.history['val_accuracy'])\n",
    "plt.title('Accuracy graph')\n",
    "plt.ylabel('Accuracy')\n",
    "plt.xlabel('Epoch')\n",
    "plt.legend(['Train', 'Validation'])\n",
    "plt.grid()\n",
    "plt.show()\n",
    "\n",
    "plt.plot(hist.history['loss'])\n",
    "plt.plot(hist.history['val_loss'])\n",
    "plt.title('Loss graph')\n",
    "plt.ylabel('Loss')\n",
    "plt.xlabel('Epoch')\n",
    "plt.legend(['Train', 'Validation'])\n",
    "plt.grid()\n",
    "plt.show()"
   ],
   "metadata": {
    "collapsed": false,
    "ExecuteTime": {
     "start_time": "2024-07-04T15:25:28.281229Z",
     "end_time": "2024-07-04T15:25:28.564807Z"
    }
   }
  }
 ],
 "metadata": {
  "kernelspec": {
   "display_name": "Python 3",
   "language": "python",
   "name": "python3"
  },
  "language_info": {
   "codemirror_mode": {
    "name": "ipython",
    "version": 2
   },
   "file_extension": ".py",
   "mimetype": "text/x-python",
   "name": "python",
   "nbconvert_exporter": "python",
   "pygments_lexer": "ipython2",
   "version": "2.7.6"
  }
 },
 "nbformat": 4,
 "nbformat_minor": 0
}
